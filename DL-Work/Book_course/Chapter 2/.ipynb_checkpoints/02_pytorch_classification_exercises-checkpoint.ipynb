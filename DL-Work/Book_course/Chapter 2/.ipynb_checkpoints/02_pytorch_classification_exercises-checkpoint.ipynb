{
 "cells": [
  {
   "cell_type": "markdown",
   "metadata": {
    "colab_type": "text",
    "id": "view-in-github"
   },
   "source": [
    "<a href=\"https://colab.research.google.com/github/mrdbourke/pytorch-deep-learning/blob/main/extras/exercises/02_pytorch_classification_exercises.ipynb\" target=\"_parent\"><img src=\"https://colab.research.google.com/assets/colab-badge.svg\" alt=\"Open In Colab\"/></a>"
   ]
  },
  {
   "cell_type": "markdown",
   "metadata": {
    "id": "ZKJFt7YxH8yl"
   },
   "source": [
    "# 02. PyTorch Classification Exercises\n",
    "\n",
    "The following is a template for 02. PyTorch Classification exercises.\n",
    "\n",
    "It's only starter code and it's your job to fill in the blanks.\n",
    "\n",
    "Because of the flexibility of PyTorch, there may be more than one way to answer the question.\n",
    "\n",
    "Don't worry about trying to be *right* just try writing code that suffices the question.\n",
    "\n",
    "## Resources\n",
    "* These exercises are based on [notebook 02 of the learn PyTorch course](https://www.learnpytorch.io/02_pytorch_classification/).\n",
    "* You can see one form of [solutions on GitHub](https://github.com/mrdbourke/pytorch-deep-learning/tree/main/extras/solutions) (but try the exercises below yourself first!)."
   ]
  },
  {
   "cell_type": "code",
   "execution_count": 161,
   "metadata": {
    "id": "CSrUPgapO0tf"
   },
   "outputs": [],
   "source": [
    "# Import torch\n",
    "import torch\n",
    "\n",
    "# Setup device agnostic code\n",
    "device = \"cuda:0\" if torch.cuda.is_available() else \"cpu\"\n",
    "\n",
    "# Setup random seed\n",
    "RANDOM_SEED = 42"
   ]
  },
  {
   "cell_type": "markdown",
   "metadata": {
    "id": "pH7jIZ2SPFee"
   },
   "source": [
    "## 1. Make a binary classification dataset with Scikit-Learn's [`make_moons()`](https://scikit-learn.org/stable/modules/generated/sklearn.datasets.make_moons.html) function.\n",
    "  * For consistency, the dataset should have 1000 samples and a `random_state=42`.\n",
    "  * Turn the data into PyTorch tensors. \n",
    "  * Split the data into training and test sets using `train_test_split` with 80% training and 20% testing."
   ]
  },
  {
   "cell_type": "code",
   "execution_count": 162,
   "metadata": {
    "id": "5t4VhPV1PX1X"
   },
   "outputs": [],
   "source": [
    "# Create a dataset with Scikit-Learn's make_moons()\n",
    "from sklearn.datasets import make_moons\n",
    "\n",
    "X, y = make_moons(n_samples= 1000, random_state=42)"
   ]
  },
  {
   "cell_type": "code",
   "execution_count": 163,
   "metadata": {
    "id": "SUeHZ3-3P9C7"
   },
   "outputs": [],
   "source": [
    "# Turn data into a DataFrame\n",
    "import pandas as pd\n",
    "\n",
    "df = pd.DataFrame(data = {\"X1\" : X[:, 0], \"X2\" : X[:, 1], \"label\" : y})"
   ]
  },
  {
   "cell_type": "code",
   "execution_count": 164,
   "metadata": {
    "id": "owrkPSFvQPFI"
   },
   "outputs": [
    {
     "data": {
      "text/plain": [
       "<matplotlib.legend.Legend at 0x7f5900835210>"
      ]
     },
     "execution_count": 164,
     "metadata": {},
     "output_type": "execute_result"
    },
    {
     "data": {
      "image/png": "[encoded data removed]",
      "text/plain": [
       "<Figure size 432x288 with 1 Axes>"
      ]
     },
     "metadata": {
      "needs_background": "light"
     },
     "output_type": "display_data"
    }
   ],
   "source": [
    "# Visualize the data on a scatter plot\n",
    "import matplotlib.pyplot as plt\n",
    "plt.scatter(data= df, x= 'X1', y = 'X2', c = 'label')\n",
    "plt.grid()\n",
    "plt.legend()"
   ]
  },
  {
   "cell_type": "code",
   "execution_count": 165,
   "metadata": {
    "id": "bDhyHn9fR4dq"
   },
   "outputs": [],
   "source": [
    "# Turn data into tensors of dtype float\n",
    "\n",
    "X, y = torch.from_numpy(X).type(torch.float), torch.from_numpy(y).type(torch.float)\n",
    "# Split the data into train and test sets (80% train, 20% test)\n",
    "from sklearn.model_selection import train_test_split\n",
    "\n",
    "X_train, X_test, y_train, y_test = train_test_split(X, y, test_size=0.2)"
   ]
  },
  {
   "cell_type": "markdown",
   "metadata": {
    "id": "cMIjxZdzQfPz"
   },
   "source": [
    "## 2. Build a model by subclassing `nn.Module` that incorporates non-linear activation functions and is capable of fitting the data you created in 1.\n",
    "  * Feel free to use any combination of PyTorch layers (linear and non-linear) you want."
   ]
  },
  {
   "cell_type": "code",
   "execution_count": 166,
   "metadata": {
    "id": "hwtyvm34Ri6Q"
   },
   "outputs": [],
   "source": [
    "import torch\n",
    "from torch import nn\n",
    "\n",
    "# Inherit from nn.Module to make a model capable of fitting the mooon data\n",
    "class MoonModelV0(nn.Module):\n",
    "    ## Your code here ##\n",
    "    def __init__(self, input_features, output_features, hidden_features = 8):\n",
    "        super().__init__()\n",
    "        self.linear_layer_stack = nn.Sequential(\n",
    "            nn.Linear(in_features=input_features, out_features= hidden_features),\n",
    "            nn.ReLU(),\n",
    "            nn.Linear(in_features=hidden_features, out_features= hidden_features),\n",
    "            nn.ReLU(),\n",
    "            nn.Linear(in_features=hidden_features, out_features= output_features),\n",
    "        )\n",
    "\n",
    "    def forward(self, x):\n",
    "        ## Your code here ##\n",
    "        return  self.linear_layer_stack(x)\n",
    "\n",
    "# Instantiate the model\n",
    "## Your code here ##\n",
    "model = MoonModelV0(2, 1, 10).to(device)"
   ]
  },
  {
   "cell_type": "markdown",
   "metadata": {
    "id": "DSj97RwyVeFE"
   },
   "source": [
    "## 3. Setup a binary classification compatible loss function and optimizer to use when training the model built in 2."
   ]
  },
  {
   "cell_type": "code",
   "execution_count": 167,
   "metadata": {
    "id": "whSGw5qgVvxU"
   },
   "outputs": [],
   "source": [
    "# Setup loss function\n",
    "loss_fn = nn.BCEWithLogitsLoss()\n",
    "\n",
    "# Setup optimizer to optimize model's parameters\n",
    "optimizer = torch.optim.SGD(params=model.parameters(), lr = 0.1)"
   ]
  },
  {
   "cell_type": "markdown",
   "metadata": {
    "id": "nvk4PfNTWUAt"
   },
   "source": [
    "## 4. Create a training and testing loop to fit the model you created in 2 to the data you created in 1.\n",
    "  * Do a forward pass of the model to see what's coming out in the form of logits, prediction probabilities and labels.\n",
    "  * To measure model accuray, you can create your own accuracy function or use the accuracy function in [TorchMetrics](https://torchmetrics.readthedocs.io/en/latest/).\n",
    "  * Train the model for long enough for it to reach over 96% accuracy.\n",
    "  * The training loop should output progress every 10 epochs of the model's training and test set loss and accuracy."
   ]
  },
  {
   "cell_type": "code",
   "execution_count": 168,
   "metadata": {
    "colab": {
     "base_uri": "https://localhost:8080/"
    },
    "id": "AgnFdlamd2-D",
    "outputId": "627d8c33-071e-4925-f18b-5d5ba6126729"
   },
   "outputs": [
    {
     "name": "stdout",
     "output_type": "stream",
     "text": [
      "Logits:torch.Size([200, 1])\n",
      "Pred probs: torch.Size([200, 1])\n",
      "Pred labels:torch.Size([200, 1])\n"
     ]
    }
   ],
   "source": [
    "# What's coming out of our model?\n",
    "logits = model.forward(X_test)\n",
    "# logits (raw outputs of model)\n",
    "print(f\"Logits:{logits.shape}\")\n",
    "## Your code here ##\n",
    "\n",
    "pred_probs = torch.sigmoid(logits)\n",
    "# Prediction probabilities\n",
    "print(f\"Pred probs: {pred_probs.shape}\")\n",
    "## Your code here ##\n",
    "\n",
    "pred_labels = torch.round(pred_probs)\n",
    "# Prediction labels\n",
    "print(f\"Pred labels:{pred_labels.shape}\")\n",
    "## Your code here ##"
   ]
  },
  {
   "cell_type": "code",
   "execution_count": 169,
   "metadata": {
    "id": "rUSDNHB4euoJ"
   },
   "outputs": [
    {
     "data": {
      "text/plain": [
       "tensor(0.)"
      ]
     },
     "execution_count": 169,
     "metadata": {},
     "output_type": "execute_result"
    }
   ],
   "source": [
    "# Let's calculuate the accuracy using accuracy from TorchMetrics\n",
    "# !pip -q install torchmetrics # Colab doesn't come with torchmetrics\n",
    "from torchmetrics import Accuracy\n",
    "\n",
    "## TODO: Uncomment this code to use the Accuracy function\n",
    "acc_fn = Accuracy(task=\"multiclass\", num_classes=2).to(device) # send accuracy function to device\n",
    "acc_fn(logits.squeeze(), y_test)"
   ]
  },
  {
   "cell_type": "code",
   "execution_count": 170,
   "metadata": {
    "id": "SHBY3h7XXnxt"
   },
   "outputs": [
    {
     "name": "stdout",
     "output_type": "stream",
     "text": [
      "Epoch = 0 | Train Loss = 0.695 | Train Acc = 0.375 | Test Loss = 0.983 | Test Acc = 0.47999998927116394\n",
      "Epoch = 100 | Train Loss = 0.400 | Train Acc = 0.8050000071525574 | Test Loss = 0.497 | Test Acc = 0.824999988079071\n",
      "Epoch = 200 | Train Loss = 0.232 | Train Acc = 0.8962500095367432 | Test Loss = -0.103 | Test Acc = 0.8999999761581421\n",
      "Epoch = 300 | Train Loss = 0.183 | Train Acc = 0.9237499833106995 | Test Loss = -0.481 | Test Acc = 0.9049999713897705\n",
      "Epoch = 400 | Train Loss = 0.141 | Train Acc = 0.9412500262260437 | Test Loss = -0.701 | Test Acc = 0.9399999976158142\n",
      "Epoch = 500 | Train Loss = 0.095 | Train Acc = 0.9674999713897705 | Test Loss = -0.864 | Test Acc = 0.9549999833106995\n",
      "Epoch = 600 | Train Loss = 0.060 | Train Acc = 0.987500011920929 | Test Loss = -1.047 | Test Acc = 0.9900000095367432\n",
      "Epoch = 700 | Train Loss = 0.038 | Train Acc = 0.9987499713897705 | Test Loss = -1.271 | Test Acc = 1.0\n",
      "Epoch = 800 | Train Loss = 0.025 | Train Acc = 1.0 | Test Loss = -1.501 | Test Acc = 1.0\n",
      "Epoch = 900 | Train Loss = 0.018 | Train Acc = 1.0 | Test Loss = -1.711 | Test Acc = 1.0\n"
     ]
    }
   ],
   "source": [
    "## TODO: Uncomment this to set the seed\n",
    "torch.manual_seed(RANDOM_SEED)\n",
    "\n",
    "# Setup epochs\n",
    "epochs = 1000\n",
    "\n",
    "# Send data to the device\n",
    "X_train, X_test, y_train, y_test = X_train.to(device), X_test.to(device), y_train.to(device), y_test.to(device)\n",
    "\n",
    "# Loop through the data\n",
    "for epoch in range(epochs):\n",
    "  ### Training\n",
    "    model.train()\n",
    "\n",
    "  # 1. Forward pass (logits output)\n",
    "    y_logits = model.forward(X_train).squeeze()\n",
    "  # Turn logits into prediction probabilities\n",
    "    \n",
    "    y_pred_prob = torch.sigmoid(y_logits)\n",
    "\n",
    "  # Turn prediction probabilities into prediction labels\n",
    "    y_pred = torch.round(y_pred_prob)\n",
    "\n",
    "  # 2. Calculaute the loss\n",
    "    loss = loss_fn(y_logits, y_train) # loss = compare model raw outputs to desired model outputs\n",
    "\n",
    "  # Calculate the accuracy\n",
    "    acc = acc_fn(y_pred, y_train.int()) # the accuracy function needs to compare pred labels (not logits) with actual labels\n",
    "\n",
    "  # 3. Zero the gradients\n",
    "    optimizer.zero_grad()\n",
    "\n",
    "  # 4. Loss backward (perform backpropagation) - https://brilliant.org/wiki/backpropagation/#:~:text=Backpropagation%2C%20short%20for%20%22backward%20propagation,to%20the%20neural%20network's%20weights.\n",
    "    loss.backward()\n",
    "  # 5. Step the optimizer (gradient descent) - https://towardsdatascience.com/gradient-descent-algorithm-a-deep-dive-cf04e8115f21#:~:text=Gradient%20descent%20(GD)%20is%20an,e.g.%20in%20a%20linear%20regression) \n",
    "    optimizer.step()\n",
    "\n",
    "  ### Testing\n",
    "    model.eval() \n",
    "    with torch.inference_mode():\n",
    "    # 1. Forward pass (to get the logits)\n",
    "        y_test_logits = model.forward(X_test).squeeze()\n",
    "    # Turn the test logits into prediction labels\n",
    "        y_test_preds = torch.round(torch.sigmoid(y_test_logits))\n",
    "      \n",
    "        loss_test = loss_fn(y_test, y_test_logits)\n",
    "\n",
    "    # 2. Caculate the test loss/acc\n",
    "        acc_test = acc_fn(y_test_preds, y_test.int())\n",
    "\n",
    "  # Print out what's happening every 100 epochs\n",
    "    if epoch % 100 == 0:\n",
    "        print(f\"Epoch = {epoch} | Train Loss = {loss:.3f} | Train Acc = {acc} | Test Loss = {loss_test:.3f} | Test Acc = {acc_test}\")"
   ]
  },
  {
   "cell_type": "markdown",
   "metadata": {
    "id": "8Nwihtomj9JO"
   },
   "source": [
    "## 5. Make predictions with your trained model and plot them using the `plot_decision_boundary()` function created in this notebook."
   ]
  },
  {
   "cell_type": "code",
   "execution_count": 171,
   "metadata": {
    "id": "0YRzatb8a1P2"
   },
   "outputs": [],
   "source": [
    "# Plot the model predictions\n",
    "import numpy as np\n",
    "\n",
    "def plot_decision_boundary(model, X, y):\n",
    "  \n",
    "    # Put everything to CPU (works better with NumPy + Matplotlib)\n",
    "    model.to(\"cpu\")\n",
    "    X, y = X.to(\"cpu\"), y.to(\"cpu\")\n",
    "\n",
    "    # Source - https://madewithml.com/courses/foundations/neural-networks/ \n",
    "    # (with modifications)\n",
    "    x_min, x_max = X[:, 0].min() - 0.1, X[:, 0].max() + 0.1\n",
    "    y_min, y_max = X[:, 1].min() - 0.1, X[:, 1].max() + 0.1\n",
    "    xx, yy = np.meshgrid(np.linspace(x_min, x_max, 101), \n",
    "                         np.linspace(y_min, y_max, 101))\n",
    "\n",
    "    # Make features\n",
    "    X_to_pred_on = torch.from_numpy(np.column_stack((xx.ravel(), yy.ravel()))).float()\n",
    "\n",
    "    # Make predictions\n",
    "    model.eval()\n",
    "    with torch.inference_mode():\n",
    "        y_logits = model(X_to_pred_on)\n",
    "\n",
    "    # Test for multi-class or binary and adjust logits to prediction labels\n",
    "    if len(torch.unique(y)) > 2:\n",
    "        y_pred = torch.softmax(y_logits, dim=1).argmax(dim=1) # mutli-class\n",
    "    else: \n",
    "        y_pred = torch.round(torch.sigmoid(y_logits)) # binary\n",
    "    \n",
    "    # Reshape preds and plot\n",
    "    y_pred = y_pred.reshape(xx.shape).detach().numpy()\n",
    "    plt.contourf(xx, yy, y_pred, cmap=plt.cm.RdYlBu, alpha=0.7)\n",
    "    plt.scatter(X[:, 0], X[:, 1], c=y, s=40, cmap=plt.cm.RdYlBu)\n",
    "    plt.xlim(xx.min(), xx.max())\n",
    "    plt.ylim(yy.min(), yy.max())"
   ]
  },
  {
   "cell_type": "code",
   "execution_count": 172,
   "metadata": {
    "id": "PMrcpyirig1d"
   },
   "outputs": [
    {
     "data": {
      "image/png": "[encoded data removed]",
      "text/plain": [
       "<Figure size 432x288 with 1 Axes>"
      ]
     },
     "metadata": {
      "needs_background": "light"
     },
     "output_type": "display_data"
    }
   ],
   "source": [
    "# Plot decision boundaries for training and test sets\n",
    "plot_decision_boundary(model, X_train, y_train)\n",
    "plot_decision_boundary(model, X_test, y_test)"
   ]
  },
  {
   "cell_type": "markdown",
   "metadata": {
    "id": "EtMYBvtciiAU"
   },
   "source": [
    "## 6. Replicate the Tanh (hyperbolic tangent) activation function in pure PyTorch.\n",
    "  * Feel free to reference the [ML cheatsheet website](https://ml-cheatsheet.readthedocs.io/en/latest/activation_functions.html#tanh) for the formula."
   ]
  },
  {
   "cell_type": "code",
   "execution_count": 173,
   "metadata": {
    "id": "BlXaWC5TkEUE"
   },
   "outputs": [],
   "source": [
    "# Create a straight line tensor\n",
    "A = torch.arange(-10., 10. , 1.)"
   ]
  },
  {
   "cell_type": "code",
   "execution_count": 180,
   "metadata": {
    "id": "vZPCcQmIkZjO"
   },
   "outputs": [
    {
     "data": {
      "text/plain": [
       "tensor([-1.0000, -1.0000, -1.0000, -1.0000, -1.0000, -0.9999, -0.9993, -0.9951,\n",
       "        -0.9640, -0.7616,  0.0000,  0.7616,  0.9640,  0.9951,  0.9993,  0.9999,\n",
       "         1.0000,  1.0000,  1.0000,  1.0000])"
      ]
     },
     "execution_count": 180,
     "metadata": {},
     "output_type": "execute_result"
    },
    {
     "data": {
      "image/png": "[encoded data removed]",
      "text/plain": [
       "<Figure size 432x288 with 1 Axes>"
      ]
     },
     "metadata": {
      "needs_background": "light"
     },
     "output_type": "display_data"
    }
   ],
   "source": [
    "# Test torch.tanh() on the tensor and plot it\n",
    "plt.plot(torch.tanh(A))\n",
    "torch.tanh(A)"
   ]
  },
  {
   "cell_type": "code",
   "execution_count": 181,
   "metadata": {
    "id": "J-ne__Kjkdc1"
   },
   "outputs": [
    {
     "data": {
      "text/plain": [
       "tensor([-1.0000, -1.0000, -1.0000, -1.0000, -1.0000, -0.9999, -0.9993, -0.9951,\n",
       "        -0.9640, -0.7616,  0.0000,  0.7616,  0.9640,  0.9951,  0.9993,  0.9999,\n",
       "         1.0000,  1.0000,  1.0000,  1.0000])"
      ]
     },
     "execution_count": 181,
     "metadata": {},
     "output_type": "execute_result"
    },
    {
     "data": {
      "image/png": "[encoded data removed]",
      "text/plain": [
       "<Figure size 432x288 with 1 Axes>"
      ]
     },
     "metadata": {
      "needs_background": "light"
     },
     "output_type": "display_data"
    }
   ],
   "source": [
    "# Replicate torch.tanh() and plot it\n",
    "def tanh( z):\n",
    "    expo = torch.exp(z)\n",
    "    neg_expo = torch.exp(-z)\n",
    "    numinator = expo - neg_expo\n",
    "    denominator = expo + neg_expo\n",
    "    return numinator / denominator\n",
    "\n",
    "plt.plot(tanh(A))\n",
    "tanh(A)"
   ]
  },
  {
   "cell_type": "markdown",
   "metadata": {
    "id": "Lbt1bNcWk5G9"
   },
   "source": [
    "## 7. Create a multi-class dataset using the [spirals data creation function from CS231n](https://cs231n.github.io/neural-networks-case-study/) (see below for the code).\n",
    "  * Split the data into training and test sets (80% train, 20% test) as well as turn it into PyTorch tensors.\n",
    "  * Construct a model capable of fitting the data (you may need a combination of linear and non-linear layers).\n",
    "  * Build a loss function and optimizer capable of handling multi-class data (optional extension: use the Adam optimizer instead of SGD, you may have to experiment with different values of the learning rate to get it working).\n",
    "  * Make a training and testing loop for the multi-class data and train a model on it to reach over 95% testing accuracy (you can use any accuracy measuring function here that you like) - 1000 epochs should be plenty.\n",
    "  * Plot the decision boundaries on the spirals dataset from your model predictions, the `plot_decision_boundary()` function should work for this dataset too."
   ]
  },
  {
   "cell_type": "code",
   "execution_count": 234,
   "metadata": {
    "colab": {
     "base_uri": "https://localhost:8080/",
     "height": 265
    },
    "id": "tU-UNZsKlJls",
    "outputId": "8b7b745a-070d-4ecb-c639-c4ee4d8eae06"
   },
   "outputs": [
    {
     "data": {
      "image/png": "[encoded data removed]",
      "text/plain": [
       "<Figure size 432x288 with 1 Axes>"
      ]
     },
     "metadata": {
      "needs_background": "light"
     },
     "output_type": "display_data"
    }
   ],
   "source": [
    "# Code for creating a spiral dataset from CS231n\n",
    "import numpy as np\n",
    "import matplotlib.pyplot as plt\n",
    "RANDOM_SEED = 42\n",
    "np.random.seed(RANDOM_SEED)\n",
    "N = 100 # number of points per class\n",
    "D = 2 # dimensionality\n",
    "K = 3 # number of classes\n",
    "X = np.zeros((N*K,D)) # data matrix (each row = single example)\n",
    "y = np.zeros(N*K, dtype='uint8') # class labels\n",
    "for j in range(K):\n",
    "  ix = range(N*j,N*(j+1))\n",
    "  r = np.linspace(0.0,1,N) # radius\n",
    "  t = np.linspace(j*4,(j+1)*4,N) + np.random.randn(N)*0.2 # theta\n",
    "  X[ix] = np.c_[r*np.sin(t), r*np.cos(t)]\n",
    "  y[ix] = j\n",
    "# lets visualize the data\n",
    "plt.scatter(X[:, 0], X[:, 1], c=y, s=40, cmap=plt.cm.RdYlBu)\n",
    "plt.show()"
   ]
  },
  {
   "cell_type": "code",
   "execution_count": 235,
   "metadata": {
    "id": "OWVrmkEyl0VP"
   },
   "outputs": [
    {
     "data": {
      "text/plain": [
       "(torch.Size([240, 2]),\n",
       " torch.Size([60, 2]),\n",
       " torch.Size([240]),\n",
       " torch.Size([60]))"
      ]
     },
     "execution_count": 235,
     "metadata": {},
     "output_type": "execute_result"
    }
   ],
   "source": [
    "# Turn data into tensors\n",
    "import torch\n",
    "X = torch.from_numpy(X).type(torch.float) # features as float32\n",
    "y = torch.from_numpy(y).type(torch.LongTensor) # labels need to be of type long\n",
    "\n",
    "# Create train and test splits\n",
    "from sklearn.model_selection import train_test_split\n",
    "X_train, X_test, y_train, y_test = train_test_split(X, y, test_size= 0.2)\n",
    "\n",
    "X_train.shape, X_test.shape, y_train.shape, y_test.shape"
   ]
  },
  {
   "cell_type": "code",
   "execution_count": 236,
   "metadata": {
    "id": "a-v-7f0op0tG"
   },
   "outputs": [
    {
     "data": {
      "text/plain": [
       "MulticlassAccuracy()"
      ]
     },
     "execution_count": 236,
     "metadata": {},
     "output_type": "execute_result"
    }
   ],
   "source": [
    "# Let's calculuate the accuracy for when we fit our model\n",
    "# !pip -q install torchmetrics # colab doesn't come with torchmetrics\n",
    "# from torchmetrics import Accuracy\n",
    "\n",
    "## TODO: uncomment the two lines below to send the accuracy function to the device\n",
    "acc_fn = Accuracy(task=\"multiclass\", num_classes=4).to(device)\n",
    "acc_fn"
   ]
  },
  {
   "cell_type": "code",
   "execution_count": 237,
   "metadata": {
    "id": "DB3u3ldumapf"
   },
   "outputs": [],
   "source": [
    "# Prepare device agnostic code\n",
    "device = \"cuda\" if torch.cuda.is_available() else \"cpu\"\n",
    "\n",
    "# Create model by subclassing nn.Module\n",
    "class SpiralClassificaionModel(nn.Module):\n",
    "    def __init__(self, input_features, output_features, hidden_features = 8):\n",
    "        super().__init__()\n",
    "        self.linear_layer_stack = nn.Sequential(\n",
    "            nn.Linear(in_features=input_features, out_features=hidden_features),\n",
    "            nn.ReLU(),\n",
    "            nn.Linear(in_features=hidden_features, out_features=hidden_features),\n",
    "            nn.ReLU(),\n",
    "            nn.Linear(in_features=hidden_features, out_features=output_features),\n",
    "        )\n",
    "    def forward(self, x):\n",
    "        return self.linear_layer_stack(x)\n",
    "\n",
    "# Instantiate model and send it to device\n",
    "model_0 = SpiralClassificaionModel(D, K)"
   ]
  },
  {
   "cell_type": "code",
   "execution_count": 238,
   "metadata": {
    "colab": {
     "base_uri": "https://localhost:8080/"
    },
    "id": "QE7XWSSunMTS",
    "outputId": "00b31909-87c9-41e3-9dbb-fb4c4bd3aabd"
   },
   "outputs": [
    {
     "name": "stdout",
     "output_type": "stream",
     "text": [
      "Logits:\n",
      "torch.Size([10, 3])\n",
      "Pred probs:\n",
      "torch.Size([10, 3])\n",
      "Pred labels:\n",
      "torch.Size([10])\n"
     ]
    }
   ],
   "source": [
    "# Setup data to be device agnostic\n",
    "device = \"cuda:0\" if torch.cuda.is_available() else \"cpu\"\n",
    "\n",
    "# Print out first 10 untrained model outputs (forward pass)\n",
    "logits = model_0.forward(X_test[:10])\n",
    "print(\"Logits:\")\n",
    "## Your code here ##\n",
    "print(logits.shape)\n",
    "print(\"Pred probs:\")\n",
    "pred_prob = torch.softmax(logits, dim = 1)\n",
    "## Your code here ##\n",
    "print(pred_prob.shape)\n",
    "print(\"Pred labels:\")\n",
    "\n",
    "pred = torch.argmax(pred_prob, dim = 1)\n",
    "## Your code here ##\n",
    "print(pred.shape)"
   ]
  },
  {
   "cell_type": "code",
   "execution_count": 239,
   "metadata": {
    "id": "54EqLRKLo0AW"
   },
   "outputs": [],
   "source": [
    "# Setup loss function and optimizer\n",
    "loss_fn = nn.CrossEntropyLoss()\n",
    "optimizer = torch.optim.Adam(params = model_0.parameters(), lr= 0.01)"
   ]
  },
  {
   "cell_type": "code",
   "execution_count": 240,
   "metadata": {
    "id": "vIlExkUHnmxi"
   },
   "outputs": [
    {
     "name": "stdout",
     "output_type": "stream",
     "text": [
      "Epoch = 0 | Train Loss = 1.139 | Train Acc = 0.3499999940395355 | Test Loss = 1.196 | Test Acc = 0.2666666805744171\n",
      "Epoch = 100 | Train Loss = 0.487 | Train Acc = 0.7208333611488342 | Test Loss = 0.508 | Test Acc = 0.699999988079071\n",
      "Epoch = 200 | Train Loss = 0.175 | Train Acc = 0.9458333253860474 | Test Loss = 0.217 | Test Acc = 0.9166666865348816\n",
      "Epoch = 300 | Train Loss = 0.070 | Train Acc = 0.9833333492279053 | Test Loss = 0.110 | Test Acc = 0.9666666388511658\n",
      "Epoch = 400 | Train Loss = 0.045 | Train Acc = 0.987500011920929 | Test Loss = 0.075 | Test Acc = 0.9833333492279053\n",
      "Epoch = 500 | Train Loss = 0.035 | Train Acc = 0.9916666746139526 | Test Loss = 0.055 | Test Acc = 1.0\n",
      "Epoch = 600 | Train Loss = 0.030 | Train Acc = 0.9916666746139526 | Test Loss = 0.043 | Test Acc = 1.0\n",
      "Epoch = 700 | Train Loss = 0.027 | Train Acc = 0.9916666746139526 | Test Loss = 0.034 | Test Acc = 1.0\n",
      "Epoch = 800 | Train Loss = 0.024 | Train Acc = 0.9916666746139526 | Test Loss = 0.028 | Test Acc = 1.0\n",
      "Epoch = 900 | Train Loss = 0.022 | Train Acc = 0.9916666746139526 | Test Loss = 0.023 | Test Acc = 1.0\n"
     ]
    }
   ],
   "source": [
    "# Build a training loop for the model\n",
    "epochs = 1000\n",
    "# Loop over data\n",
    "for epoch in range(epochs):\n",
    "    \n",
    "  ## Training\n",
    "    model_0.train()\n",
    "  # 1. Forward pass\n",
    "    y_logits = model_0.forward(X_train)\n",
    "\n",
    "    acc = acc_fn(torch.softmax(y_logits,dim = 1).argmax(dim = 1), y_train)\n",
    "\n",
    "    # print(y_logits.shape)\n",
    "    # print(y_train.shape)\n",
    "\n",
    "  # 2. Calculate the loss\n",
    "    loss = loss_fn(y_logits, y_train)\n",
    "  \n",
    "  # 3. Optimizer zero grad\n",
    "    optimizer.zero_grad()\n",
    "\n",
    "  # 4. Loss backward\n",
    "    loss.backward()\n",
    "\n",
    "  # 5. Optimizer step\n",
    "    optimizer.step()\n",
    "\n",
    "  ## Testing\n",
    "    model_0.eval()\n",
    "\n",
    "    with torch.inference_mode():\n",
    "    # 1. Forward pass\n",
    "        y_test_logits = model_0.forward(X_test)\n",
    "    # 2. Caculate loss and acc\n",
    "        acc_test = acc_fn(torch.softmax(y_test_logits,dim = 1).argmax(dim = 1), y_test)\n",
    "        loss_test = loss_fn(y_test_logits, y_test)\n",
    "  # Print out what's happening every 100 epochs\n",
    "    if epoch % 100 == 0:\n",
    "        print(f\"Epoch = {epoch} | Train Loss = {loss:.3f} | Train Acc = {acc} | Test Loss = {loss_test:.3f} | Test Acc = {acc_test}\")\n",
    "  "
   ]
  },
  {
   "cell_type": "code",
   "execution_count": 241,
   "metadata": {
    "id": "JrwVRbaE0keT"
   },
   "outputs": [
    {
     "data": {
      "image/png": "[encoded data removed]",
      "text/plain": [
       "<Figure size 432x288 with 1 Axes>"
      ]
     },
     "metadata": {
      "needs_background": "light"
     },
     "output_type": "display_data"
    }
   ],
   "source": [
    "# Plot decision boundaries for training and test sets\n",
    "plot_decision_boundary(model_0, X_train, y_train)\n",
    "plot_decision_boundary(model_0, X_test, y_test)"
   ]
  },
  {
   "cell_type": "code",
   "execution_count": null,
   "metadata": {},
   "outputs": [],
   "source": []
  }
 ],
 "metadata": {
  "accelerator": "GPU",
  "colab": {
   "authorship_tag": "ABX9TyNloicnciRwCXd2bJo6F2iS",
   "collapsed_sections": [],
   "include_colab_link": true,
   "name": "02_pytorch_classification_exercises.ipynb",
   "provenance": []
  },
  "kernelspec": {
   "display_name": "Python 3 (ipykernel)",
   "language": "python",
   "name": "python3"
  },
  "language_info": {
   "codemirror_mode": {
    "name": "ipython",
    "version": 3
   },
   "file_extension": ".py",
   "mimetype": "text/x-python",
   "name": "python",
   "nbconvert_exporter": "python",
   "pygments_lexer": "ipython3",
   "version": "3.10.12"
  }
 },
 "nbformat": 4,
 "nbformat_minor": 4
}
