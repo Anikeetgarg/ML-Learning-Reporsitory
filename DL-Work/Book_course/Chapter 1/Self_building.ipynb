{
 "cells": [
  {
   "cell_type": "code",
   "execution_count": 15,
   "id": "8ba34c2b-73a3-429b-94e4-1fe9690a7c6e",
   "metadata": {},
   "outputs": [],
   "source": [
    "import torch\n",
    "from torch import nn\n",
    "import numpy as np \n",
    "import matplotlib.pyplot as plt"
   ]
  },
  {
   "cell_type": "code",
   "execution_count": 16,
   "id": "39286f83-0240-4cca-bf16-cb6a2c0b7200",
   "metadata": {},
   "outputs": [],
   "source": [
    "## known variables\n",
    "\n",
    "weight = 0.7\n",
    "bias = 0.3\n",
    "\n",
    "## creating a linear model\n",
    "start = 0\n",
    "end = 1\n",
    "step = 0.02\n",
    "X = torch.arange(start, end, step).unsqueeze(1)\n",
    "y = weight * X + bias"
   ]
  },
  {
   "cell_type": "code",
   "execution_count": 17,
   "id": "94bd5c7e-2069-46e6-a29c-8653eb6eeea8",
   "metadata": {},
   "outputs": [],
   "source": [
    "from sklearn.model_selection import train_test_split\n",
    "X_train, X_test, y_train, y_test = train_test_split(X, y)"
   ]
  },
  {
   "cell_type": "code",
   "execution_count": 18,
   "id": "019fd74c-7fe8-43b1-a493-4a8954cd8c0d",
   "metadata": {},
   "outputs": [],
   "source": [
    "class LinearRegressionModel(nn.Module):\n",
    "    def __init__(self):\n",
    "        super().__init__()\n",
    "        self.weights = nn.Parameter(torch.randn(1,requires_grad = True, dtype = torch.float))\n",
    "        self.bias = nn.Parameter(torch.randn(1,requires_grad = True, dtype = torch.float))\n",
    "\n",
    "    def forward(self, x: torch.tensor) -> torch.tensor:\n",
    "        return self.weights * x + self.bias"
   ]
  },
  {
   "cell_type": "code",
   "execution_count": 19,
   "id": "1c7f139a-2dd6-48ea-8a4e-166da25671c0",
   "metadata": {},
   "outputs": [],
   "source": [
    "model_0 = LinearRegressionModel()"
   ]
  },
  {
   "cell_type": "code",
   "execution_count": 20,
   "id": "dfe4a9b9-0206-4a65-94d4-f03d7ab0a2a2",
   "metadata": {},
   "outputs": [
    {
     "data": {
      "text/plain": [
       "OrderedDict([('weights', tensor([-0.1676])), ('bias', tensor([-1.4002]))])"
      ]
     },
     "execution_count": 20,
     "metadata": {},
     "output_type": "execute_result"
    }
   ],
   "source": [
    "model_0.state_dict()"
   ]
  },
  {
   "cell_type": "code",
   "execution_count": 21,
   "id": "86191bcf-80dd-49ed-ae9f-5f77e0f51a73",
   "metadata": {},
   "outputs": [],
   "source": [
    "loss_fn = nn.L1Loss()\n",
    "\n",
    "optimizer = torch.optim.SGD(params= model_0.parameters(), lr= 0.01)"
   ]
  },
  {
   "cell_type": "code",
   "execution_count": 22,
   "id": "807a81a1-d047-4fa5-b6d5-758f5a685608",
   "metadata": {},
   "outputs": [
    {
     "name": "stdout",
     "output_type": "stream",
     "text": [
      "Epoch = 0 | loss = 2.068366527557373 | params = <bound method Module.state_dict of LinearRegressionModel()>\n",
      "Epoch = 10 | loss = 1.9460880756378174 | params = <bound method Module.state_dict of LinearRegressionModel()>\n",
      "Epoch = 20 | loss = 1.8238097429275513 | params = <bound method Module.state_dict of LinearRegressionModel()>\n",
      "Epoch = 30 | loss = 1.7015310525894165 | params = <bound method Module.state_dict of LinearRegressionModel()>\n",
      "Epoch = 40 | loss = 1.5792524814605713 | params = <bound method Module.state_dict of LinearRegressionModel()>\n",
      "Epoch = 50 | loss = 1.4569740295410156 | params = <bound method Module.state_dict of LinearRegressionModel()>\n",
      "Epoch = 60 | loss = 1.3346956968307495 | params = <bound method Module.state_dict of LinearRegressionModel()>\n",
      "Epoch = 70 | loss = 1.2124171257019043 | params = <bound method Module.state_dict of LinearRegressionModel()>\n",
      "Epoch = 80 | loss = 1.0901386737823486 | params = <bound method Module.state_dict of LinearRegressionModel()>\n",
      "Epoch = 90 | loss = 0.9678601026535034 | params = <bound method Module.state_dict of LinearRegressionModel()>\n",
      "Epoch = 100 | loss = 0.8455816507339478 | params = <bound method Module.state_dict of LinearRegressionModel()>\n",
      "Epoch = 110 | loss = 0.7233030796051025 | params = <bound method Module.state_dict of LinearRegressionModel()>\n",
      "Epoch = 120 | loss = 0.6010245084762573 | params = <bound method Module.state_dict of LinearRegressionModel()>\n",
      "Epoch = 130 | loss = 0.47874587774276733 | params = <bound method Module.state_dict of LinearRegressionModel()>\n",
      "Epoch = 140 | loss = 0.3564673066139221 | params = <bound method Module.state_dict of LinearRegressionModel()>\n",
      "Epoch = 150 | loss = 0.23418888449668884 | params = <bound method Module.state_dict of LinearRegressionModel()>\n",
      "Epoch = 160 | loss = 0.11191035807132721 | params = <bound method Module.state_dict of LinearRegressionModel()>\n",
      "Epoch = 170 | loss = 0.010368085466325283 | params = <bound method Module.state_dict of LinearRegressionModel()>\n",
      "Epoch = 180 | loss = 0.010368085466325283 | params = <bound method Module.state_dict of LinearRegressionModel()>\n",
      "Epoch = 190 | loss = 0.010368085466325283 | params = <bound method Module.state_dict of LinearRegressionModel()>\n",
      "Epoch = 200 | loss = 0.010368085466325283 | params = <bound method Module.state_dict of LinearRegressionModel()>\n",
      "Epoch = 210 | loss = 0.010368085466325283 | params = <bound method Module.state_dict of LinearRegressionModel()>\n",
      "Epoch = 220 | loss = 0.010368085466325283 | params = <bound method Module.state_dict of LinearRegressionModel()>\n",
      "Epoch = 230 | loss = 0.010368085466325283 | params = <bound method Module.state_dict of LinearRegressionModel()>\n",
      "Epoch = 240 | loss = 0.010368085466325283 | params = <bound method Module.state_dict of LinearRegressionModel()>\n",
      "Epoch = 250 | loss = 0.010368085466325283 | params = <bound method Module.state_dict of LinearRegressionModel()>\n",
      "Epoch = 260 | loss = 0.010368085466325283 | params = <bound method Module.state_dict of LinearRegressionModel()>\n",
      "Epoch = 270 | loss = 0.010368085466325283 | params = <bound method Module.state_dict of LinearRegressionModel()>\n",
      "Epoch = 280 | loss = 0.010368085466325283 | params = <bound method Module.state_dict of LinearRegressionModel()>\n",
      "Epoch = 290 | loss = 0.010368085466325283 | params = <bound method Module.state_dict of LinearRegressionModel()>\n",
      "Epoch = 300 | loss = 0.010368085466325283 | params = <bound method Module.state_dict of LinearRegressionModel()>\n",
      "Epoch = 310 | loss = 0.010368085466325283 | params = <bound method Module.state_dict of LinearRegressionModel()>\n",
      "Epoch = 320 | loss = 0.010368085466325283 | params = <bound method Module.state_dict of LinearRegressionModel()>\n",
      "Epoch = 330 | loss = 0.010368085466325283 | params = <bound method Module.state_dict of LinearRegressionModel()>\n",
      "Epoch = 340 | loss = 0.010368085466325283 | params = <bound method Module.state_dict of LinearRegressionModel()>\n",
      "Epoch = 350 | loss = 0.010368085466325283 | params = <bound method Module.state_dict of LinearRegressionModel()>\n",
      "Epoch = 360 | loss = 0.010368085466325283 | params = <bound method Module.state_dict of LinearRegressionModel()>\n",
      "Epoch = 370 | loss = 0.010368085466325283 | params = <bound method Module.state_dict of LinearRegressionModel()>\n",
      "Epoch = 380 | loss = 0.010368085466325283 | params = <bound method Module.state_dict of LinearRegressionModel()>\n",
      "Epoch = 390 | loss = 0.010368085466325283 | params = <bound method Module.state_dict of LinearRegressionModel()>\n",
      "Epoch = 400 | loss = 0.010368085466325283 | params = <bound method Module.state_dict of LinearRegressionModel()>\n",
      "Epoch = 410 | loss = 0.010368085466325283 | params = <bound method Module.state_dict of LinearRegressionModel()>\n",
      "Epoch = 420 | loss = 0.010368085466325283 | params = <bound method Module.state_dict of LinearRegressionModel()>\n",
      "Epoch = 430 | loss = 0.010368085466325283 | params = <bound method Module.state_dict of LinearRegressionModel()>\n",
      "Epoch = 440 | loss = 0.010368085466325283 | params = <bound method Module.state_dict of LinearRegressionModel()>\n",
      "Epoch = 450 | loss = 0.010368085466325283 | params = <bound method Module.state_dict of LinearRegressionModel()>\n",
      "Epoch = 460 | loss = 0.010368085466325283 | params = <bound method Module.state_dict of LinearRegressionModel()>\n",
      "Epoch = 470 | loss = 0.010368085466325283 | params = <bound method Module.state_dict of LinearRegressionModel()>\n",
      "Epoch = 480 | loss = 0.010368085466325283 | params = <bound method Module.state_dict of LinearRegressionModel()>\n",
      "Epoch = 490 | loss = 0.010368085466325283 | params = <bound method Module.state_dict of LinearRegressionModel()>\n"
     ]
    }
   ],
   "source": [
    "epochs_count = []\n",
    "train_loss_count = []\n",
    "test_loss_count = []\n",
    "\n",
    "epochs = 500\n",
    "\n",
    "for epoch in range(epochs):\n",
    "    model_0.train()\n",
    "\n",
    "    y_pred = model_0.forward(X_train)\n",
    "\n",
    "    loss_train = loss_fn(y_pred, y_train)\n",
    "\n",
    "    optimizer.zero_grad()\n",
    "\n",
    "    loss_train.backward()\n",
    "\n",
    "    optimizer.step()\n",
    "\n",
    "    model_0.eval()\n",
    "\n",
    "    with torch.inference_mode():\n",
    "        y_test_pred = model_0.forward(X_test)\n",
    "\n",
    "        loss_test = loss_fn(y_test_pred, y_test)\n",
    "\n",
    "    if epoch % 10 == 0:\n",
    "        epochs_count.append(epoch)\n",
    "        train_loss_count.append(loss_train)\n",
    "        test_loss_count.append(loss_test)\n",
    "        print(f\"Epoch = {epoch} | loss = {loss_test} | params = {model_0.state_dict}\")\n",
    "\n",
    "\n",
    "\n",
    "    "
   ]
  },
  {
   "cell_type": "code",
   "execution_count": 24,
   "id": "d531e4a5-9465-4bc6-bfd9-bbec930093b1",
   "metadata": {},
   "outputs": [
    {
     "data": {
      "text/plain": [
       "<matplotlib.legend.Legend at 0x7f9cfac5cc70>"
      ]
     },
     "execution_count": 24,
     "metadata": {},
     "output_type": "execute_result"
    },
    {
     "data": {
      "image/png": "[encoded data removed]",
      "text/plain": [
       "<Figure size 432x288 with 1 Axes>"
      ]
     },
     "metadata": {
      "needs_background": "light"
     },
     "output_type": "display_data"
    }
   ],
   "source": [
    "plt.plot(epochs_count, np.array(torch.tensor(train_loss_count).numpy()), label = \"Train\", color = \"orange\")\n",
    "plt.plot(epochs_count, np.array(torch.tensor(test_loss_count).numpy()), label = \"Test\", color = \"green\")\n",
    "plt.grid()\n",
    "plt.legend()"
   ]
  },
  {
   "cell_type": "code",
   "execution_count": 25,
   "id": "75134d38-d0cc-47e3-b21d-59ad15a6edda",
   "metadata": {},
   "outputs": [],
   "source": [
    "from pathlib import Path\n",
    "MODEL_PATH = Path('models')\n",
    "MODEL_PATH.mkdir(parents=True, exist_ok=True)\n",
    "\n",
    "FILE_NAME = \"Independent_model_save.pt\"\n",
    "\n",
    "FILE_SAVE_PATH = MODEL_PATH / FILE_NAME\n",
    "\n",
    "torch.save(obj= model_0.state_dict(), f=FILE_SAVE_PATH)"
   ]
  },
  {
   "cell_type": "code",
   "execution_count": 26,
   "id": "8935bc17-488b-4bf3-bd3e-171e568d5bea",
   "metadata": {},
   "outputs": [
    {
     "data": {
      "text/plain": [
       "<All keys matched successfully>"
      ]
     },
     "execution_count": 26,
     "metadata": {},
     "output_type": "execute_result"
    }
   ],
   "source": [
    "my_model_back = LinearRegressionModel()\n",
    "\n",
    "my_model_back.load_state_dict(torch.load(FILE_SAVE_PATH))"
   ]
  },
  {
   "cell_type": "code",
   "execution_count": 27,
   "id": "88db1b2a-49d5-4c57-a62d-ec887117eb9a",
   "metadata": {},
   "outputs": [
    {
     "data": {
      "text/plain": [
       "True"
      ]
     },
     "execution_count": 27,
     "metadata": {},
     "output_type": "execute_result"
    }
   ],
   "source": [
    "my_model_back.state_dict() == model_0.state_dict()"
   ]
  },
  {
   "cell_type": "code",
   "execution_count": null,
   "id": "33a2e7ac-df7f-47ed-a3a5-b8d69a77a35f",
   "metadata": {},
   "outputs": [],
   "source": []
  }
 ],
 "metadata": {
  "kernelspec": {
   "display_name": "Python 3 (ipykernel)",
   "language": "python",
   "name": "python3"
  },
  "language_info": {
   "codemirror_mode": {
    "name": "ipython",
    "version": 3
   },
   "file_extension": ".py",
   "mimetype": "text/x-python",
   "name": "python",
   "nbconvert_exporter": "python",
   "pygments_lexer": "ipython3",
   "version": "3.10.12"
  }
 },
 "nbformat": 4,
 "nbformat_minor": 5
}
