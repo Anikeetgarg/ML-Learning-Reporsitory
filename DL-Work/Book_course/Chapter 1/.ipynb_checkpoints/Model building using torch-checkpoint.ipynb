{
 "cells": [
  {
   "cell_type": "code",
   "execution_count": 44,
   "id": "ccea3dbd-ed0e-4fd1-a15f-91ab2a4e1a45",
   "metadata": {},
   "outputs": [],
   "source": [
    "import torch\n",
    "import numpy as np\n",
    "import matplotlib.pyplot as plt\n",
    "import pandas\n",
    "from torch import nn"
   ]
  },
  {
   "cell_type": "code",
   "execution_count": 23,
   "id": "d55e3869-7a57-407e-bd01-a4e66082f522",
   "metadata": {},
   "outputs": [
    {
     "data": {
      "text/plain": [
       "'2.3.1+cu121'"
      ]
     },
     "execution_count": 23,
     "metadata": {},
     "output_type": "execute_result"
    }
   ],
   "source": [
    " torch.__version__"
   ]
  },
  {
   "cell_type": "code",
   "execution_count": 24,
   "id": "ff4e5469-7f0b-4179-82ea-ff18c1d210b7",
   "metadata": {},
   "outputs": [],
   "source": [
    "## known variables\n",
    "\n",
    "weight = 0.7\n",
    "bias = 0.3\n",
    "\n",
    "## creating a linear model\n",
    "start = 0\n",
    "end = 1\n",
    "step = 0.02\n",
    "X = torch.arange(start, end, step).unsqueeze(1)\n",
    "y = weight * X + bias"
   ]
  },
  {
   "cell_type": "code",
   "execution_count": 25,
   "id": "d139739f-557b-49b5-9f1c-2af01127ebd4",
   "metadata": {},
   "outputs": [
    {
     "data": {
      "text/plain": [
       "(torch.Size([50, 1]), torch.Size([50, 1]))"
      ]
     },
     "execution_count": 25,
     "metadata": {},
     "output_type": "execute_result"
    }
   ],
   "source": [
    "X.shape, y.shape"
   ]
  },
  {
   "cell_type": "code",
   "execution_count": 26,
   "id": "30b8cf1f-268b-4f00-b58e-b1becf040339",
   "metadata": {},
   "outputs": [],
   "source": [
    "from sklearn.model_selection import train_test_split\n",
    "\n",
    "X_train, X_test, y_train, y_test = train_test_split(X, y, train_size= 0.8)"
   ]
  },
  {
   "cell_type": "code",
   "execution_count": 27,
   "id": "6c7bad41-9bc2-44e4-9243-93539d1dbfd8",
   "metadata": {},
   "outputs": [
    {
     "data": {
      "image/png": "[encoded data removed]",
      "text/plain": [
       "<Figure size 720x504 with 1 Axes>"
      ]
     },
     "metadata": {
      "needs_background": "light"
     },
     "output_type": "display_data"
    }
   ],
   "source": [
    "def plot_prediction(train_data = X_train, train_label = y_train, test_data = X_test, test_label = y_test, prediction = None):\n",
    "    plt.figure(figsize=(10, 7))\n",
    "    \n",
    "    plt.scatter(train_data, train_label, c=\"b\", label = \"Train data\")\n",
    "    plt.scatter(test_data, test_label, c=\"g\", label = \"Test data\")\n",
    "\n",
    "    if prediction != None:\n",
    "        plt.scatter(test_data, prediction, c=\"purple\", label = \"Test data\")\n",
    "        \n",
    "    \n",
    "    plt.xlabel(\"X\")\n",
    "    plt.ylabel(\"y\")\n",
    "    plt.grid()\n",
    "    plt.title(\"Traning data\")\n",
    "    plt.legend()\n",
    "\n",
    "plot_prediction(X_train, y_train, X_test, y_test)"
   ]
  },
  {
   "cell_type": "code",
   "execution_count": 28,
   "id": "97caed74-8f73-42bc-9b58-ba7179ebc587",
   "metadata": {},
   "outputs": [],
   "source": [
    "# linear regression model\n",
    "class LinearRegressionModel(nn.Module):\n",
    "    def __init__(self):\n",
    "        super().__init__()\n",
    "        self.weights = nn.Parameter(torch.randn(1, dtype= torch.float, requires_grad = True))\n",
    "        self.bias = nn.Parameter(torch.randn(1, dtype = torch.float, requires_grad = True))\n",
    "\n",
    "    def forward(self, x: torch.tensor) -> torch.tensor:\n",
    "        return self.weights * x + self.bias"
   ]
  },
  {
   "cell_type": "code",
   "execution_count": 29,
   "id": "4c0b2cc4-d1a2-4a67-8513-8d810c527da0",
   "metadata": {},
   "outputs": [],
   "source": [
    "model_0 = LinearRegressionModel()"
   ]
  },
  {
   "cell_type": "code",
   "execution_count": 30,
   "id": "22c2983f-0770-4f9a-9e44-1863cf3a35ae",
   "metadata": {},
   "outputs": [
    {
     "data": {
      "text/plain": [
       "[Parameter containing:\n",
       " tensor([0.4781], requires_grad=True),\n",
       " Parameter containing:\n",
       " tensor([-1.1399], requires_grad=True)]"
      ]
     },
     "execution_count": 30,
     "metadata": {},
     "output_type": "execute_result"
    }
   ],
   "source": [
    "list(model_0.parameters())"
   ]
  },
  {
   "cell_type": "code",
   "execution_count": 31,
   "id": "75537b4c-e72f-488e-a64b-0deb647be7ce",
   "metadata": {},
   "outputs": [
    {
     "data": {
      "text/plain": [
       "OrderedDict([('weights', tensor([0.4781])), ('bias', tensor([-1.1399]))])"
      ]
     },
     "execution_count": 31,
     "metadata": {},
     "output_type": "execute_result"
    }
   ],
   "source": [
    "model_0.state_dict()"
   ]
  },
  {
   "cell_type": "code",
   "execution_count": 32,
   "id": "44982758-6aef-469b-9373-6d27f76e08cc",
   "metadata": {},
   "outputs": [
    {
     "data": {
      "image/png": "[encoded data removed]",
      "text/plain": [
       "<Figure size 720x504 with 1 Axes>"
      ]
     },
     "metadata": {
      "needs_background": "light"
     },
     "output_type": "display_data"
    }
   ],
   "source": [
    "with torch.inference_mode():\n",
    "    y_preds = model_0.forward(X_test)\n",
    "\n",
    "    \n",
    "y_preds\n",
    "\n",
    "plot_prediction(prediction= y_preds)\n",
    "# "
   ]
  },
  {
   "cell_type": "code",
   "execution_count": 33,
   "id": "fcddb721-9da2-440d-9787-6a95a9a9f43f",
   "metadata": {},
   "outputs": [],
   "source": [
    "# loss function\n",
    "loss_fn = nn.L1Loss()\n",
    "\n",
    "# optimiser\n",
    "optimizer = torch.optim.SGD(params=model_0.parameters(),lr= 0.01)"
   ]
  },
  {
   "cell_type": "code",
   "execution_count": 34,
   "id": "4c499b29-d229-4c0e-ae40-e9df194469a4",
   "metadata": {},
   "outputs": [
    {
     "name": "stdout",
     "output_type": "stream",
     "text": [
      "Epochs = 0 | Loss = 1.5358095169067383 | Params = OrderedDict([('weights', tensor([0.4830])), ('bias', tensor([-1.1299]))])\n",
      "Epochs = 10 | Loss = 1.4118732213974 | Params = OrderedDict([('weights', tensor([0.5321])), ('bias', tensor([-1.0299]))])\n",
      "Epochs = 20 | Loss = 1.2879369258880615 | Params = OrderedDict([('weights', tensor([0.5811])), ('bias', tensor([-0.9299]))])\n",
      "Epochs = 30 | Loss = 1.1640007495880127 | Params = OrderedDict([('weights', tensor([0.6302])), ('bias', tensor([-0.8299]))])\n",
      "Epochs = 40 | Loss = 1.0400645732879639 | Params = OrderedDict([('weights', tensor([0.6792])), ('bias', tensor([-0.7299]))])\n",
      "Epochs = 50 | Loss = 0.9161283373832703 | Params = OrderedDict([('weights', tensor([0.7283])), ('bias', tensor([-0.6299]))])\n",
      "Epochs = 60 | Loss = 0.7921921014785767 | Params = OrderedDict([('weights', tensor([0.7773])), ('bias', tensor([-0.5299]))])\n",
      "Epochs = 70 | Loss = 0.6682558059692383 | Params = OrderedDict([('weights', tensor([0.8264])), ('bias', tensor([-0.4299]))])\n",
      "Epochs = 80 | Loss = 0.5443195700645447 | Params = OrderedDict([('weights', tensor([0.8754])), ('bias', tensor([-0.3299]))])\n",
      "Epochs = 90 | Loss = 0.4203833043575287 | Params = OrderedDict([('weights', tensor([0.9245])), ('bias', tensor([-0.2299]))])\n",
      "Epochs = 100 | Loss = 0.29644694924354553 | Params = OrderedDict([('weights', tensor([0.9735])), ('bias', tensor([-0.1299]))])\n",
      "Epochs = 110 | Loss = 0.17251059412956238 | Params = OrderedDict([('weights', tensor([1.0226])), ('bias', tensor([-0.0299]))])\n",
      "Epochs = 120 | Loss = 0.11679564416408539 | Params = OrderedDict([('weights', tensor([1.0505])), ('bias', tensor([0.0466]))])\n",
      "Epochs = 130 | Loss = 0.10315921157598495 | Params = OrderedDict([('weights', tensor([1.0475])), ('bias', tensor([0.0831]))])\n",
      "Epochs = 140 | Loss = 0.09655710309743881 | Params = OrderedDict([('weights', tensor([1.0359])), ('bias', tensor([0.1061]))])\n",
      "Epochs = 150 | Loss = 0.09074495732784271 | Params = OrderedDict([('weights', tensor([1.0195])), ('bias', tensor([0.1211]))])\n",
      "Epochs = 160 | Loss = 0.08534754812717438 | Params = OrderedDict([('weights', tensor([1.0009])), ('bias', tensor([0.1321]))])\n",
      "Epochs = 170 | Loss = 0.08000191301107407 | Params = OrderedDict([('weights', tensor([0.9821])), ('bias', tensor([0.1426]))])\n",
      "Epochs = 180 | Loss = 0.07465632259845734 | Params = OrderedDict([('weights', tensor([0.9632])), ('bias', tensor([0.1531]))])\n",
      "Epochs = 190 | Loss = 0.06931070238351822 | Params = OrderedDict([('weights', tensor([0.9443])), ('bias', tensor([0.1636]))])\n",
      "Epochs = 200 | Loss = 0.06396510452032089 | Params = OrderedDict([('weights', tensor([0.9254])), ('bias', tensor([0.1741]))])\n",
      "Epochs = 210 | Loss = 0.05861949175596237 | Params = OrderedDict([('weights', tensor([0.9066])), ('bias', tensor([0.1846]))])\n",
      "Epochs = 220 | Loss = 0.05327387899160385 | Params = OrderedDict([('weights', tensor([0.8877])), ('bias', tensor([0.1951]))])\n",
      "Epochs = 230 | Loss = 0.04792826622724533 | Params = OrderedDict([('weights', tensor([0.8688])), ('bias', tensor([0.2056]))])\n",
      "Epochs = 240 | Loss = 0.042582638561725616 | Params = OrderedDict([('weights', tensor([0.8500])), ('bias', tensor([0.2161]))])\n",
      "Epochs = 250 | Loss = 0.03723704442381859 | Params = OrderedDict([('weights', tensor([0.8311])), ('bias', tensor([0.2266]))])\n",
      "Epochs = 260 | Loss = 0.03183959051966667 | Params = OrderedDict([('weights', tensor([0.8125])), ('bias', tensor([0.2376]))])\n",
      "Epochs = 270 | Loss = 0.026493970304727554 | Params = OrderedDict([('weights', tensor([0.7936])), ('bias', tensor([0.2481]))])\n",
      "Epochs = 280 | Loss = 0.021148378029465675 | Params = OrderedDict([('weights', tensor([0.7748])), ('bias', tensor([0.2586]))])\n",
      "Epochs = 290 | Loss = 0.015802789479494095 | Params = OrderedDict([('weights', tensor([0.7559])), ('bias', tensor([0.2691]))])\n",
      "Epochs = 300 | Loss = 0.010457205586135387 | Params = OrderedDict([('weights', tensor([0.7370])), ('bias', tensor([0.2796]))])\n",
      "Epochs = 310 | Loss = 0.005113312508910894 | Params = OrderedDict([('weights', tensor([0.7182])), ('bias', tensor([0.2901]))])\n",
      "Epochs = 320 | Loss = 0.0035352050326764584 | Params = OrderedDict([('weights', tensor([0.7019])), ('bias', tensor([0.2956]))])\n",
      "Epochs = 330 | Loss = 0.0035352050326764584 | Params = OrderedDict([('weights', tensor([0.7019])), ('bias', tensor([0.2956]))])\n",
      "Epochs = 340 | Loss = 0.0035352050326764584 | Params = OrderedDict([('weights', tensor([0.7019])), ('bias', tensor([0.2956]))])\n",
      "Epochs = 350 | Loss = 0.0035352050326764584 | Params = OrderedDict([('weights', tensor([0.7019])), ('bias', tensor([0.2956]))])\n",
      "Epochs = 360 | Loss = 0.0035352050326764584 | Params = OrderedDict([('weights', tensor([0.7019])), ('bias', tensor([0.2956]))])\n",
      "Epochs = 370 | Loss = 0.0035352050326764584 | Params = OrderedDict([('weights', tensor([0.7019])), ('bias', tensor([0.2956]))])\n",
      "Epochs = 380 | Loss = 0.0035352050326764584 | Params = OrderedDict([('weights', tensor([0.7019])), ('bias', tensor([0.2956]))])\n",
      "Epochs = 390 | Loss = 0.0035352050326764584 | Params = OrderedDict([('weights', tensor([0.7019])), ('bias', tensor([0.2956]))])\n",
      "Epochs = 400 | Loss = 0.0035352050326764584 | Params = OrderedDict([('weights', tensor([0.7019])), ('bias', tensor([0.2956]))])\n",
      "Epochs = 410 | Loss = 0.0035352050326764584 | Params = OrderedDict([('weights', tensor([0.7019])), ('bias', tensor([0.2956]))])\n",
      "Epochs = 420 | Loss = 0.0035352050326764584 | Params = OrderedDict([('weights', tensor([0.7019])), ('bias', tensor([0.2956]))])\n",
      "Epochs = 430 | Loss = 0.0035352050326764584 | Params = OrderedDict([('weights', tensor([0.7019])), ('bias', tensor([0.2956]))])\n",
      "Epochs = 440 | Loss = 0.0035352050326764584 | Params = OrderedDict([('weights', tensor([0.7019])), ('bias', tensor([0.2956]))])\n",
      "Epochs = 450 | Loss = 0.0035352050326764584 | Params = OrderedDict([('weights', tensor([0.7019])), ('bias', tensor([0.2956]))])\n",
      "Epochs = 460 | Loss = 0.0035352050326764584 | Params = OrderedDict([('weights', tensor([0.7019])), ('bias', tensor([0.2956]))])\n",
      "Epochs = 470 | Loss = 0.0035352050326764584 | Params = OrderedDict([('weights', tensor([0.7019])), ('bias', tensor([0.2956]))])\n",
      "Epochs = 480 | Loss = 0.0035352050326764584 | Params = OrderedDict([('weights', tensor([0.7019])), ('bias', tensor([0.2956]))])\n",
      "Epochs = 490 | Loss = 0.0035352050326764584 | Params = OrderedDict([('weights', tensor([0.7019])), ('bias', tensor([0.2956]))])\n"
     ]
    }
   ],
   "source": [
    "ephocs_count = []\n",
    "train_loss_values = []\n",
    "test_loss_values = []\n",
    "\n",
    "ephocs = 500\n",
    "\n",
    "for ephoc in range(ephocs):\n",
    "    model_0.train() # pytorch will start tracking parameters and optimize for gradient decent\n",
    "\n",
    "    # forward pass\n",
    "    y_preds =  model_0.forward(X_train)\n",
    "\n",
    "    # calculate the loss\n",
    "    loss = loss_fn(y_preds, y_train)\n",
    "\n",
    "    # reset the optimizer to zero\n",
    "    optimizer.zero_grad()\n",
    "\n",
    "    # loss backward \n",
    "    loss.backward()\n",
    "\n",
    "    # steps the optimizer (perform the gradient decent)\n",
    "    optimizer.step()\n",
    "\n",
    "    # update the parameters\n",
    "    model_0.eval()\n",
    "\n",
    "    # stop parameter tracking\n",
    "    with torch.inference_mode():\n",
    "        # calcualte the loss on test set\n",
    "        y_preds_ = model_0(X_test)\n",
    "\n",
    "        # calculate lass\n",
    "        loss_test = loss_fn(y_test, y_preds_)\n",
    "\n",
    "    if ephoc % 10 == 0:\n",
    "        print(f\"Epochs = {ephoc} | Loss = {loss_test} | Params = {model_0.state_dict()}\")\n",
    "        ephocs_count.append(ephoc)\n",
    "        train_loss_values.append(loss)\n",
    "        test_loss_values.append(loss_test)"
   ]
  },
  {
   "cell_type": "code",
   "execution_count": 35,
   "id": "a732de2b-b3f6-4744-9783-d9840a44cbd5",
   "metadata": {},
   "outputs": [],
   "source": [
    "with torch.inference_mode():\n",
    "    y_preds_ = model_0(X_test)\n",
    "    \n",
    "    loss = loss_fn(y_test, y_preds_)"
   ]
  },
  {
   "cell_type": "code",
   "execution_count": 36,
   "id": "dba5e748-7d40-483c-9fb1-778117a50075",
   "metadata": {},
   "outputs": [
    {
     "data": {
      "text/plain": [
       "tensor([[0.6307],\n",
       "        [0.9134],\n",
       "        [0.4469],\n",
       "        [0.9275],\n",
       "        [0.4893],\n",
       "        [0.3904],\n",
       "        [0.3197],\n",
       "        [0.7579],\n",
       "        [0.6731],\n",
       "        [0.9558]])"
      ]
     },
     "execution_count": 36,
     "metadata": {},
     "output_type": "execute_result"
    }
   ],
   "source": [
    "y_preds_"
   ]
  },
  {
   "cell_type": "code",
   "execution_count": 37,
   "id": "7d192938-9a13-4f68-b8d4-bd40074a58c9",
   "metadata": {},
   "outputs": [
    {
     "data": {
      "image/png": "[encoded data removed]",
      "text/plain": [
       "<Figure size 720x504 with 1 Axes>"
      ]
     },
     "metadata": {
      "needs_background": "light"
     },
     "output_type": "display_data"
    }
   ],
   "source": [
    "plot_prediction(prediction= y_preds_)"
   ]
  },
  {
   "cell_type": "code",
   "execution_count": 53,
   "id": "1f859754-d6a9-49b6-92fb-03cf7f78fdca",
   "metadata": {},
   "outputs": [
    {
     "data": {
      "text/plain": [
       "<matplotlib.legend.Legend at 0x7f0b86168970>"
      ]
     },
     "execution_count": 53,
     "metadata": {},
     "output_type": "execute_result"
    },
    {
     "data": {
      "image/png": "[encoded data removed]",
      "text/plain": [
       "<Figure size 432x288 with 1 Axes>"
      ]
     },
     "metadata": {
      "needs_background": "light"
     },
     "output_type": "display_data"
    }
   ],
   "source": [
    "plt.plot(ephocs_count, np.array(torch.tensor(train_loss_values).numpy()), c = \"orange\", label = \"Train loss\")\n",
    "plt.plot(ephocs_count, np.array(torch.tensor(test_loss_values).numpy()), c = 'blue', label = \"Test loss\")\n",
    "plt.grid()\n",
    "plt.legend()"
   ]
  },
  {
   "cell_type": "code",
   "execution_count": 58,
   "id": "c3df07c0-80aa-4584-97bc-d66b49c1be21",
   "metadata": {},
   "outputs": [
    {
     "name": "stdout",
     "output_type": "stream",
     "text": [
      "Saving to models/my_model_01.pt\n"
     ]
    }
   ],
   "source": [
    "# saving a model\n",
    "from pathlib import Path\n",
    "\n",
    "# creating a model_directory\n",
    "MODEL_PATH = Path(\"models\")\n",
    "MODEL_PATH.mkdir(parents=True, exist_ok=True)\n",
    "\n",
    "# creating model save path\n",
    "MODEL_NAME = \"my_model_01.pt\"\n",
    "MODEL_SAVE_PATH = MODEL_PATH / MODEL_NAME\n",
    "\n",
    "# save the models state_dict()\n",
    "print(f\"Saving to {MODEL_SAVE_PATH}\")\n",
    "torch.save(obj= model_0.state_dict(), f= MODEL_SAVE_PATH)"
   ]
  },
  {
   "cell_type": "code",
   "execution_count": 71,
   "id": "7de4b625-76ba-4fc9-a7f2-6319ae1f65ab",
   "metadata": {},
   "outputs": [
    {
     "data": {
      "text/plain": [
       "<All keys matched successfully>"
      ]
     },
     "execution_count": 71,
     "metadata": {},
     "output_type": "execute_result"
    }
   ],
   "source": [
    "model__0 = LinearRegressionModel()\n",
    "model__0.load_state_dict(torch.load(f = MODEL_SAVE_PATH))"
   ]
  },
  {
   "cell_type": "code",
   "execution_count": 73,
   "id": "f2b44023-0b6b-4007-b80c-cf3d0d79f8a0",
   "metadata": {},
   "outputs": [
    {
     "data": {
      "text/plain": [
       "OrderedDict([('weights', tensor([0.7068])), ('bias', tensor([0.3056]))])"
      ]
     },
     "execution_count": 73,
     "metadata": {},
     "output_type": "execute_result"
    }
   ],
   "source": [
    "model__0.state_dict()"
   ]
  },
  {
   "cell_type": "code",
   "execution_count": 59,
   "id": "d52b0cdf-5ff5-44b7-be9d-8b7cda2703c8",
   "metadata": {},
   "outputs": [],
   "source": [
    "del(model__0)"
   ]
  },
  {
   "cell_type": "code",
   "execution_count": null,
   "id": "116df3d2-441c-4e90-9fa8-f1b7f6008fe2",
   "metadata": {},
   "outputs": [],
   "source": []
  }
 ],
 "metadata": {
  "kernelspec": {
   "display_name": "Python 3 (ipykernel)",
   "language": "python",
   "name": "python3"
  },
  "language_info": {
   "codemirror_mode": {
    "name": "ipython",
    "version": 3
   },
   "file_extension": ".py",
   "mimetype": "text/x-python",
   "name": "python",
   "nbconvert_exporter": "python",
   "pygments_lexer": "ipython3",
   "version": "3.10.12"
  }
 },
 "nbformat": 4,
 "nbformat_minor": 5
}
