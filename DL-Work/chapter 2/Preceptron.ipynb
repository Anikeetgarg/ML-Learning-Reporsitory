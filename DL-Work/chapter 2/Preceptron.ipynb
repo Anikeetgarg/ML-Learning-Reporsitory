{
 "cells": [
  {
   "cell_type": "code",
   "execution_count": 116,
   "id": "cb4fe1de-c840-496f-9cb0-ca2a96868a8f",
   "metadata": {},
   "outputs": [],
   "source": [
    "import pandas as pd\n",
    "import numpy as np \n",
    "import matplotlib.pyplot as plt\n",
    "import torch\n",
    "import random"
   ]
  },
  {
   "cell_type": "code",
   "execution_count": 117,
   "id": "c227000d-3792-4eb6-bf85-6b54d05e4af5",
   "metadata": {},
   "outputs": [],
   "source": [
    "df = pd.read_csv('perceptron_toydata-truncated.txt', sep='\\t')"
   ]
  },
  {
   "cell_type": "code",
   "execution_count": 118,
   "id": "cde5f80b-56df-4176-ada4-04b742188e73",
   "metadata": {},
   "outputs": [],
   "source": [
    "X_train = df.drop(['label'], axis = 1).values\n",
    "y_train = df[['label']].values\n",
    "\n",
    "X_train_tensor = torch.from_numpy(X_train)\n",
    "y_train_tensor = torch.from_numpy(y_train)"
   ]
  },
  {
   "cell_type": "code",
   "execution_count": 119,
   "id": "48ffa851-90b5-4597-a624-8cb090334bb4",
   "metadata": {},
   "outputs": [],
   "source": [
    "X_train = X_train_tensor.to(torch.float32)\n",
    "y_train = y_train_tensor.to(torch.float32)"
   ]
  },
  {
   "cell_type": "code",
   "execution_count": 151,
   "id": "55e0601d-b0e3-41c9-a826-f632c9cba73f",
   "metadata": {},
   "outputs": [],
   "source": [
    "class Preceptron:\n",
    "    def __init__(self, num_features, alpha = 1.):\n",
    "        self.num_features = num_features\n",
    "        self.weights= torch.rand(num_features) - 0.5\n",
    "        self.bias = torch.tensor(0.)\n",
    "        self.alpha = torch.tensor(alpha)\n",
    "        \n",
    "    def forward(self, x):\n",
    "        \n",
    "        weighted_sum_z = torch.dot(x, self.weights) + self.bias\n",
    "\n",
    "        return torch.where(weighted_sum_z > torch.tensor(0.), torch.tensor(1.), torch.tensor(0.))\n",
    "\n",
    "    def update(self, x, true_y: torch.tensor):\n",
    "        prediction = self.forward(x)\n",
    "        true_y = true_y[0]\n",
    "        error = true_y - prediction\n",
    "        error = torch.tensor(error)\n",
    "        \n",
    "        # update\n",
    "        self.bias += error * self.alpha\n",
    "        self.weights += error * x * self.alpha\n",
    "\n",
    "        return error"
   ]
  },
  {
   "cell_type": "code",
   "execution_count": 152,
   "id": "ff49f16c-005e-4b21-bc4d-942e583e3b4f",
   "metadata": {},
   "outputs": [],
   "source": [
    "def train(model, all_x, all_y, epochs):\n",
    "    for epoch in range(epochs):\n",
    "        error_count = 0\n",
    "\n",
    "        for x, y in zip(all_x, all_y):\n",
    "            error = model.update(x, y)\n",
    "            error_count += abs(error)\n",
    "    \n",
    "        print(f\"Ephocs {epoch + 1} errors = {error_count}\")\n",
    "        if error_count == 0:\n",
    "            return"
   ]
  },
  {
   "cell_type": "code",
   "execution_count": 153,
   "id": "e02fab1d-322f-4a8d-806f-1d86b4bd3ec8",
   "metadata": {},
   "outputs": [
    {
     "name": "stdout",
     "output_type": "stream",
     "text": [
      "Ephocs 1 errors = 3.0\n",
      "Ephocs 2 errors = 1.0\n",
      "Ephocs 3 errors = 0.0\n"
     ]
    },
    {
     "name": "stderr",
     "output_type": "stream",
     "text": [
      "/tmp/ipykernel_40303/3298152214.py:18: UserWarning: To copy construct from a tensor, it is recommended to use sourceTensor.clone().detach() or sourceTensor.clone().detach().requires_grad_(True), rather than torch.tensor(sourceTensor).\n",
      "  error = torch.tensor(error)\n"
     ]
    }
   ],
   "source": [
    "ppn = Preceptron(2, alpha = 0.1)\n",
    "\n",
    "train(ppn, X_train, y_train, epochs=10)"
   ]
  },
  {
   "cell_type": "code",
   "execution_count": 154,
   "id": "0b689115-e7e7-4238-aa3d-2f8f2a8fb4a7",
   "metadata": {},
   "outputs": [],
   "source": [
    "def compute_accuracy(model, all_x, all_y):\n",
    "    correct = 0.\n",
    "    for x, y in zip(all_x, all_y):\n",
    "        predict = model.forward(x)\n",
    "        correct += int(predict == y)\n",
    "\n",
    "    return correct / len(all_x)"
   ]
  },
  {
   "cell_type": "code",
   "execution_count": 155,
   "id": "c2d39909-4fd6-4b77-8749-97a09a6e0e82",
   "metadata": {},
   "outputs": [
    {
     "data": {
      "text/plain": [
       "1.0"
      ]
     },
     "execution_count": 155,
     "metadata": {},
     "output_type": "execute_result"
    }
   ],
   "source": [
    "compute_accuracy(ppn, X_train, y_train)"
   ]
  },
  {
   "cell_type": "code",
   "execution_count": null,
   "id": "2f2d05a4-86aa-4987-88ab-792bfebe2f72",
   "metadata": {},
   "outputs": [],
   "source": []
  },
  {
   "cell_type": "code",
   "execution_count": null,
   "id": "5c205bdf-1e09-4898-999c-f2201d9cadbc",
   "metadata": {},
   "outputs": [],
   "source": []
  }
 ],
 "metadata": {
  "kernelspec": {
   "display_name": "Python 3 (ipykernel)",
   "language": "python",
   "name": "python3"
  },
  "language_info": {
   "codemirror_mode": {
    "name": "ipython",
    "version": 3
   },
   "file_extension": ".py",
   "mimetype": "text/x-python",
   "name": "python",
   "nbconvert_exporter": "python",
   "pygments_lexer": "ipython3",
   "version": "3.10.12"
  }
 },
 "nbformat": 4,
 "nbformat_minor": 5
}
