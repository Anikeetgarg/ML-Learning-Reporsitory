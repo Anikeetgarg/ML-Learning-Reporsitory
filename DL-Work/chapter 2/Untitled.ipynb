{
 "cells": [
  {
   "cell_type": "code",
   "execution_count": 1,
   "id": "1b30f597-a7d2-43a9-869f-6863a7cc55d7",
   "metadata": {},
   "outputs": [],
   "source": [
    "import numpy as np\n",
    "import pandas as pd\n",
    "import matplotlib.pyplot\n",
    "import seaborn as sns\n",
    "import torch\n",
    "import ipdb"
   ]
  },
  {
   "cell_type": "code",
   "execution_count": 3,
   "id": "e246b508-74db-4c05-924a-c76bc5ae88bc",
   "metadata": {},
   "outputs": [],
   "source": [
    "scaler = torch.tensor(0)"
   ]
  },
  {
   "cell_type": "code",
   "execution_count": 4,
   "id": "a79d4297-9488-4e3c-91e5-c3160ad0ec24",
   "metadata": {},
   "outputs": [
    {
     "data": {
      "text/plain": [
       "torch.Size([])"
      ]
     },
     "execution_count": 4,
     "metadata": {},
     "output_type": "execute_result"
    }
   ],
   "source": [
    "scaler.shape"
   ]
  },
  {
   "cell_type": "code",
   "execution_count": 5,
   "id": "60940f8e-8f1e-4bdf-bd2b-a284ae7c3405",
   "metadata": {},
   "outputs": [
    {
     "data": {
      "text/plain": [
       "1"
      ]
     },
     "execution_count": 5,
     "metadata": {},
     "output_type": "execute_result"
    }
   ],
   "source": [
    "vector = torch.tensor([0,1])\n",
    "vector.ndim"
   ]
  },
  {
   "cell_type": "code",
   "execution_count": 6,
   "id": "d7fdef8d-9cc1-456d-87c8-23e16770ff8f",
   "metadata": {},
   "outputs": [
    {
     "data": {
      "text/plain": [
       "torch.Size([2])"
      ]
     },
     "execution_count": 6,
     "metadata": {},
     "output_type": "execute_result"
    }
   ],
   "source": [
    "vector.shape"
   ]
  },
  {
   "cell_type": "code",
   "execution_count": 7,
   "id": "8a9e3084-629b-463c-b7a9-f2ece90a442f",
   "metadata": {},
   "outputs": [
    {
     "data": {
      "text/plain": [
       "2"
      ]
     },
     "execution_count": 7,
     "metadata": {},
     "output_type": "execute_result"
    }
   ],
   "source": [
    "MATRIX = torch.tensor([[0,1],[2,3]])\n",
    "MATRIX.ndim"
   ]
  },
  {
   "cell_type": "code",
   "execution_count": 8,
   "id": "f9981046-65c7-4208-8aea-2a854171c410",
   "metadata": {},
   "outputs": [
    {
     "data": {
      "text/plain": [
       "torch.Size([2, 2])"
      ]
     },
     "execution_count": 8,
     "metadata": {},
     "output_type": "execute_result"
    }
   ],
   "source": [
    "MATRIX.shape"
   ]
  },
  {
   "cell_type": "code",
   "execution_count": 9,
   "id": "67b7bd0a-b358-465a-b757-5f18a473e63d",
   "metadata": {},
   "outputs": [],
   "source": [
    "TENSOR = torch.rand(3,3,3)"
   ]
  },
  {
   "cell_type": "code",
   "execution_count": 10,
   "id": "871bd15c-db88-483f-90ec-b4044c4f7489",
   "metadata": {},
   "outputs": [
    {
     "data": {
      "text/plain": [
       "tensor([[[0.5727, 0.4159, 0.1507],\n",
       "         [0.0926, 0.8460, 0.0524],\n",
       "         [0.9779, 0.5449, 0.5045]],\n",
       "\n",
       "        [[0.9508, 0.5077, 0.9568],\n",
       "         [0.0026, 0.9637, 0.1984],\n",
       "         [0.7816, 0.2220, 0.8235]],\n",
       "\n",
       "        [[0.6660, 0.3164, 0.3295],\n",
       "         [0.3164, 0.9443, 0.2946],\n",
       "         [0.9671, 0.8412, 0.0212]]])"
      ]
     },
     "execution_count": 10,
     "metadata": {},
     "output_type": "execute_result"
    }
   ],
   "source": [
    "TENSOR"
   ]
  },
  {
   "cell_type": "code",
   "execution_count": 11,
   "id": "ec7d6040-57ec-4634-b609-ffb3e0330511",
   "metadata": {},
   "outputs": [],
   "source": [
    "TENSOR_10_10_ZERO = torch.zeros(10,10)"
   ]
  },
  {
   "cell_type": "code",
   "execution_count": 12,
   "id": "feae5c2b-9bfc-49b6-a984-35793b293f31",
   "metadata": {},
   "outputs": [
    {
     "data": {
      "text/plain": [
       "tensor([[[0.5727, 0.4159, 0.1507],\n",
       "         [0.0926, 0.8460, 0.0524],\n",
       "         [0.9779, 0.5449, 0.5045]],\n",
       "\n",
       "        [[0.9508, 0.5077, 0.9568],\n",
       "         [0.0026, 0.9637, 0.1984],\n",
       "         [0.7816, 0.2220, 0.8235]],\n",
       "\n",
       "        [[0.6660, 0.3164, 0.3295],\n",
       "         [0.3164, 0.9443, 0.2946],\n",
       "         [0.9671, 0.8412, 0.0212]]])"
      ]
     },
     "execution_count": 12,
     "metadata": {},
     "output_type": "execute_result"
    }
   ],
   "source": [
    "TENSOR"
   ]
  },
  {
   "cell_type": "code",
   "execution_count": 13,
   "id": "d245992a-288b-4be6-8f3d-31ef3fda7c98",
   "metadata": {},
   "outputs": [
    {
     "data": {
      "text/plain": [
       "tensor([0, 1, 2, 3, 4, 5, 6, 7, 8, 9])"
      ]
     },
     "execution_count": 13,
     "metadata": {},
     "output_type": "execute_result"
    }
   ],
   "source": [
    "A_RANGE = torch.arange(start = 0, end = 10, step = 1)\n",
    "A_RANGE"
   ]
  },
  {
   "cell_type": "code",
   "execution_count": 14,
   "id": "a084fe33-3e76-4de7-b473-1ab3177f2b0a",
   "metadata": {},
   "outputs": [
    {
     "data": {
      "text/plain": [
       "tensor([0, 0, 0, 0, 0, 0, 0, 0, 0, 0])"
      ]
     },
     "execution_count": 14,
     "metadata": {},
     "output_type": "execute_result"
    }
   ],
   "source": [
    "copy_A_RANGE_zeros = torch.zeros_like(A_RANGE)\n",
    "copy_A_RANGE_zeros"
   ]
  },
  {
   "cell_type": "code",
   "execution_count": 15,
   "id": "636014c6-963f-46c1-a465-ccce7eefdb7a",
   "metadata": {},
   "outputs": [
    {
     "ename": "RuntimeError",
     "evalue": "No CUDA GPUs are available",
     "output_type": "error",
     "traceback": [
      "\u001b[0;31m---------------------------------------------------------------------------\u001b[0m",
      "\u001b[0;31mRuntimeError\u001b[0m                              Traceback (most recent call last)",
      "\u001b[0;32m/tmp/ipykernel_38281/1533870926.py\u001b[0m in \u001b[0;36m<module>\u001b[0;34m\u001b[0m\n\u001b[1;32m      1\u001b[0m \u001b[0mcuda0\u001b[0m \u001b[0;34m=\u001b[0m \u001b[0mtorch\u001b[0m\u001b[0;34m.\u001b[0m\u001b[0mdevice\u001b[0m\u001b[0;34m(\u001b[0m\u001b[0;34m'cuda:0'\u001b[0m\u001b[0;34m)\u001b[0m\u001b[0;34m\u001b[0m\u001b[0;34m\u001b[0m\u001b[0m\n\u001b[1;32m      2\u001b[0m \u001b[0;34m\u001b[0m\u001b[0m\n\u001b[0;32m----> 3\u001b[0;31m float_32_tensor = torch.tensor([2., 3., 5.],\n\u001b[0m\u001b[1;32m      4\u001b[0m                                 \u001b[0mdtype\u001b[0m \u001b[0;34m=\u001b[0m \u001b[0mtorch\u001b[0m\u001b[0;34m.\u001b[0m\u001b[0mfloat32\u001b[0m\u001b[0;34m,\u001b[0m\u001b[0;34m\u001b[0m\u001b[0;34m\u001b[0m\u001b[0m\n\u001b[1;32m      5\u001b[0m                                 \u001b[0mdevice\u001b[0m\u001b[0;34m=\u001b[0m \u001b[0mcuda0\u001b[0m\u001b[0;34m,\u001b[0m\u001b[0;34m\u001b[0m\u001b[0;34m\u001b[0m\u001b[0m\n",
      "\u001b[0;32m~/.local/lib/python3.10/site-packages/torch/cuda/__init__.py\u001b[0m in \u001b[0;36m_lazy_init\u001b[0;34m()\u001b[0m\n\u001b[1;32m    291\u001b[0m         \u001b[0;32mif\u001b[0m \u001b[0;34m\"CUDA_MODULE_LOADING\"\u001b[0m \u001b[0;32mnot\u001b[0m \u001b[0;32min\u001b[0m \u001b[0mos\u001b[0m\u001b[0;34m.\u001b[0m\u001b[0menviron\u001b[0m\u001b[0;34m:\u001b[0m\u001b[0;34m\u001b[0m\u001b[0;34m\u001b[0m\u001b[0m\n\u001b[1;32m    292\u001b[0m             \u001b[0mos\u001b[0m\u001b[0;34m.\u001b[0m\u001b[0menviron\u001b[0m\u001b[0;34m[\u001b[0m\u001b[0;34m\"CUDA_MODULE_LOADING\"\u001b[0m\u001b[0;34m]\u001b[0m \u001b[0;34m=\u001b[0m \u001b[0;34m\"LAZY\"\u001b[0m\u001b[0;34m\u001b[0m\u001b[0;34m\u001b[0m\u001b[0m\n\u001b[0;32m--> 293\u001b[0;31m         \u001b[0mtorch\u001b[0m\u001b[0;34m.\u001b[0m\u001b[0m_C\u001b[0m\u001b[0;34m.\u001b[0m\u001b[0m_cuda_init\u001b[0m\u001b[0;34m(\u001b[0m\u001b[0;34m)\u001b[0m\u001b[0;34m\u001b[0m\u001b[0;34m\u001b[0m\u001b[0m\n\u001b[0m\u001b[1;32m    294\u001b[0m         \u001b[0;31m# Some of the queued calls may reentrantly call _lazy_init();\u001b[0m\u001b[0;34m\u001b[0m\u001b[0;34m\u001b[0m\u001b[0m\n\u001b[1;32m    295\u001b[0m         \u001b[0;31m# we need to just return without initializing in that case.\u001b[0m\u001b[0;34m\u001b[0m\u001b[0;34m\u001b[0m\u001b[0m\n",
      "\u001b[0;31mRuntimeError\u001b[0m: No CUDA GPUs are available"
     ]
    }
   ],
   "source": [
    "cuda0 = torch.device('cuda:0')\n",
    "\n",
    "float_32_tensor = torch.tensor([2., 3., 5.],\n",
    "                                dtype = torch.float32,\n",
    "                                device= cuda0,\n",
    "                               requires_grad = True)"
   ]
  },
  {
   "cell_type": "code",
   "execution_count": 17,
   "id": "e7437001-ae2a-4a48-a786-83c86f6c2c98",
   "metadata": {},
   "outputs": [
    {
     "ename": "NameError",
     "evalue": "name 'float_32_tensor' is not defined",
     "output_type": "error",
     "traceback": [
      "\u001b[0;31m---------------------------------------------------------------------------\u001b[0m",
      "\u001b[0;31mNameError\u001b[0m                                 Traceback (most recent call last)",
      "\u001b[0;32m/tmp/ipykernel_38281/3329792224.py\u001b[0m in \u001b[0;36m<module>\u001b[0;34m\u001b[0m\n\u001b[0;32m----> 1\u001b[0;31m \u001b[0mfloat_32_tensor\u001b[0m\u001b[0;34m.\u001b[0m\u001b[0mshape\u001b[0m\u001b[0;34m,\u001b[0m \u001b[0mfloat_32_tensor\u001b[0m\u001b[0;34m.\u001b[0m\u001b[0mdtype\u001b[0m\u001b[0;34m,\u001b[0m \u001b[0mfloat_32_tensor\u001b[0m\u001b[0;34m.\u001b[0m\u001b[0mdevice\u001b[0m\u001b[0;34m\u001b[0m\u001b[0;34m\u001b[0m\u001b[0m\n\u001b[0m",
      "\u001b[0;31mNameError\u001b[0m: name 'float_32_tensor' is not defined"
     ]
    }
   ],
   "source": [
    "float_32_tensor.shape, float_32_tensor.dtype, float_32_tensor.device"
   ]
  },
  {
   "cell_type": "code",
   "execution_count": 18,
   "id": "43855512-79b7-497c-863e-b3d2e9c59c40",
   "metadata": {},
   "outputs": [
    {
     "name": "stdout",
     "output_type": "stream",
     "text": [
      "False\n"
     ]
    }
   ],
   "source": [
    "print(torch.cuda.is_available())"
   ]
  },
  {
   "cell_type": "code",
   "execution_count": 19,
   "id": "7174f2af-5285-475a-881b-c1b85142014a",
   "metadata": {},
   "outputs": [],
   "source": [
    "tensor = torch.tensor([1,2,3])"
   ]
  },
  {
   "cell_type": "code",
   "execution_count": 20,
   "id": "ad4690cf-c0b7-48e4-a5f9-7ca8045747ac",
   "metadata": {},
   "outputs": [
    {
     "data": {
      "text/plain": [
       "tensor([11, 12, 13])"
      ]
     },
     "execution_count": 20,
     "metadata": {},
     "output_type": "execute_result"
    }
   ],
   "source": [
    "tensor + 10"
   ]
  },
  {
   "cell_type": "code",
   "execution_count": 21,
   "id": "c6fa0751-6f48-4f44-99db-936de5a6de2a",
   "metadata": {},
   "outputs": [
    {
     "data": {
      "text/plain": [
       "tensor([10, 20, 30])"
      ]
     },
     "execution_count": 21,
     "metadata": {},
     "output_type": "execute_result"
    }
   ],
   "source": [
    "tensor * 10"
   ]
  },
  {
   "cell_type": "code",
   "execution_count": 22,
   "id": "eb1e3852-d44a-4f1c-ba0f-7ec5a9f62eaf",
   "metadata": {},
   "outputs": [
    {
     "data": {
      "text/plain": [
       "tensor([-9, -8, -7])"
      ]
     },
     "execution_count": 22,
     "metadata": {},
     "output_type": "execute_result"
    }
   ],
   "source": [
    "tensor - 10"
   ]
  },
  {
   "cell_type": "code",
   "execution_count": 23,
   "id": "e509e577-5812-471b-a2c8-8f8eb3b93128",
   "metadata": {},
   "outputs": [
    {
     "data": {
      "text/plain": [
       "tensor([-9, -8, -7])"
      ]
     },
     "execution_count": 23,
     "metadata": {},
     "output_type": "execute_result"
    }
   ],
   "source": [
    "tensor = tensor - 10\n",
    "tensor"
   ]
  },
  {
   "cell_type": "code",
   "execution_count": 24,
   "id": "2d057ea3-0562-4c4d-b1c9-05ab60786db8",
   "metadata": {},
   "outputs": [
    {
     "data": {
      "text/plain": [
       "tensor([1, 2, 3])"
      ]
     },
     "execution_count": 24,
     "metadata": {},
     "output_type": "execute_result"
    }
   ],
   "source": [
    "tensor += 10\n",
    "tensor"
   ]
  },
  {
   "cell_type": "code",
   "execution_count": 25,
   "id": "f95e64d5-fef8-42e8-b14f-2d78287ea4ca",
   "metadata": {},
   "outputs": [
    {
     "data": {
      "text/plain": [
       "tensor([10, 20, 30])"
      ]
     },
     "execution_count": 25,
     "metadata": {},
     "output_type": "execute_result"
    }
   ],
   "source": [
    "torch.mul(tensor, 10)"
   ]
  },
  {
   "cell_type": "code",
   "execution_count": 26,
   "id": "c3b3b7dd-1527-496d-8a54-824bdc26e132",
   "metadata": {},
   "outputs": [
    {
     "data": {
      "text/plain": [
       "tensor([1, 4, 9])"
      ]
     },
     "execution_count": 26,
     "metadata": {},
     "output_type": "execute_result"
    }
   ],
   "source": [
    "tensor * tensor"
   ]
  },
  {
   "cell_type": "code",
   "execution_count": 27,
   "id": "39d3b39d-5519-4bcd-bb11-b67a775a929e",
   "metadata": {},
   "outputs": [
    {
     "data": {
      "text/plain": [
       "tensor(14)"
      ]
     },
     "execution_count": 27,
     "metadata": {},
     "output_type": "execute_result"
    }
   ],
   "source": [
    "tensor.matmul(tensor) # same as \n",
    "torch.matmul(tensor, tensor) # # same as \n",
    "tensor @ tensor"
   ]
  },
  {
   "cell_type": "code",
   "execution_count": 28,
   "id": "8dd015ed-ca15-4e6f-8c8d-2f5fd80d456b",
   "metadata": {},
   "outputs": [],
   "source": [
    "p = np.array([1.2,2.2,3.2])"
   ]
  },
  {
   "cell_type": "code",
   "execution_count": 29,
   "id": "3d46dee2-d200-492f-8c6a-f269ea205284",
   "metadata": {},
   "outputs": [],
   "source": [
    "tensor_p = torch.from_numpy(p)"
   ]
  },
  {
   "cell_type": "code",
   "execution_count": 30,
   "id": "4c613b42-52ae-4414-9305-fdebe961baeb",
   "metadata": {},
   "outputs": [
    {
     "data": {
      "text/plain": [
       "tensor([1.2000, 2.2000, 3.2000], dtype=torch.float64)"
      ]
     },
     "execution_count": 30,
     "metadata": {},
     "output_type": "execute_result"
    }
   ],
   "source": [
    "tensor_p"
   ]
  },
  {
   "cell_type": "code",
   "execution_count": 31,
   "id": "6644d688-dbb0-43f1-af9b-cabb4a19a044",
   "metadata": {},
   "outputs": [],
   "source": [
    "tensor_p = tensor_p.to(torch.float32)"
   ]
  },
  {
   "cell_type": "code",
   "execution_count": 32,
   "id": "a93316cf-d36a-4139-b59d-704c7f1e93f3",
   "metadata": {},
   "outputs": [
    {
     "data": {
      "text/plain": [
       "torch.float32"
      ]
     },
     "execution_count": 32,
     "metadata": {},
     "output_type": "execute_result"
    }
   ],
   "source": [
    "tensor_p.dtype"
   ]
  },
  {
   "cell_type": "code",
   "execution_count": 33,
   "id": "fbc05de0-fde9-4d32-b34f-871df4ec9cf1",
   "metadata": {},
   "outputs": [
    {
     "data": {
      "text/plain": [
       "tensor([[0.4629, 0.9817, 0.5260],\n",
       "        [0.3161, 0.8827, 0.7309]])"
      ]
     },
     "execution_count": 33,
     "metadata": {},
     "output_type": "execute_result"
    }
   ],
   "source": [
    "TENSOR = torch.rand(2,3)\n",
    "TENSOR"
   ]
  },
  {
   "cell_type": "code",
   "execution_count": 34,
   "id": "a152c85d-dcea-4607-b828-4ed1acc98501",
   "metadata": {},
   "outputs": [
    {
     "data": {
      "text/plain": [
       "tensor([[0.4629, 0.3161],\n",
       "        [0.9817, 0.8827],\n",
       "        [0.5260, 0.7309]])"
      ]
     },
     "execution_count": 34,
     "metadata": {},
     "output_type": "execute_result"
    }
   ],
   "source": [
    "TENSOR.T"
   ]
  },
  {
   "cell_type": "code",
   "execution_count": 3,
   "id": "ad74693e-9676-4571-a53f-12d41a6f7c39",
   "metadata": {},
   "outputs": [],
   "source": [
    "TENSOR_A = torch.tensor([[1,2],\n",
    "                        [3,4],\n",
    "                        [5,6]])\n",
    "\n",
    "TENSOR_B = torch.tensor([[7,10],\n",
    "                         [8,11],\n",
    "                         [9,12]])"
   ]
  },
  {
   "cell_type": "code",
   "execution_count": 5,
   "id": "e87579c1-61e3-45c8-b7c8-705996b07c75",
   "metadata": {},
   "outputs": [
    {
     "data": {
      "text/plain": [
       "tensor([[ 27,  30,  33],\n",
       "        [ 61,  68,  75],\n",
       "        [ 95, 106, 117]])"
      ]
     },
     "execution_count": 5,
     "metadata": {},
     "output_type": "execute_result"
    }
   ],
   "source": [
    "torch.mm(TENSOR_A, TENSOR_B.T)"
   ]
  },
  {
   "cell_type": "code",
   "execution_count": 17,
   "id": "2872f0cc-c7d6-45ea-a96d-bd06390b79af",
   "metadata": {},
   "outputs": [],
   "source": [
    "x = torch.arange(0,100,10)"
   ]
  },
  {
   "cell_type": "code",
   "execution_count": 18,
   "id": "2da68f86-97e7-4479-a110-a99c6f5018e2",
   "metadata": {},
   "outputs": [
    {
     "data": {
      "text/plain": [
       "tensor([ 0, 10, 20, 30, 40, 50, 60, 70, 80, 90])"
      ]
     },
     "execution_count": 18,
     "metadata": {},
     "output_type": "execute_result"
    }
   ],
   "source": [
    "x"
   ]
  },
  {
   "cell_type": "code",
   "execution_count": 19,
   "id": "6848e906-9c4c-4e89-9614-8e460ef13778",
   "metadata": {},
   "outputs": [
    {
     "data": {
      "text/plain": [
       "tensor(0)"
      ]
     },
     "execution_count": 19,
     "metadata": {},
     "output_type": "execute_result"
    }
   ],
   "source": [
    "x.min()"
   ]
  },
  {
   "cell_type": "code",
   "execution_count": 20,
   "id": "ccbd73c8-c57a-49d7-9454-16e91d445d9d",
   "metadata": {},
   "outputs": [
    {
     "data": {
      "text/plain": [
       "tensor(90)"
      ]
     },
     "execution_count": 20,
     "metadata": {},
     "output_type": "execute_result"
    }
   ],
   "source": [
    "x.max()"
   ]
  },
  {
   "cell_type": "code",
   "execution_count": 21,
   "id": "e88aaf70-bc17-4246-85f7-64a00ae50870",
   "metadata": {},
   "outputs": [
    {
     "ename": "RuntimeError",
     "evalue": "mean(): could not infer output dtype. Input dtype must be either a floating point or complex dtype. Got: Long",
     "output_type": "error",
     "traceback": [
      "\u001b[0;31m---------------------------------------------------------------------------\u001b[0m",
      "\u001b[0;31mRuntimeError\u001b[0m                              Traceback (most recent call last)",
      "\u001b[0;32m/tmp/ipykernel_4491/3791599204.py\u001b[0m in \u001b[0;36m<module>\u001b[0;34m\u001b[0m\n\u001b[0;32m----> 1\u001b[0;31m \u001b[0mx\u001b[0m\u001b[0;34m.\u001b[0m\u001b[0mmean\u001b[0m\u001b[0;34m(\u001b[0m\u001b[0;34m)\u001b[0m\u001b[0;34m\u001b[0m\u001b[0;34m\u001b[0m\u001b[0m\n\u001b[0m",
      "\u001b[0;31mRuntimeError\u001b[0m: mean(): could not infer output dtype. Input dtype must be either a floating point or complex dtype. Got: Long"
     ]
    }
   ],
   "source": [
    "x.mean()"
   ]
  },
  {
   "cell_type": "code",
   "execution_count": 22,
   "id": "063b6357-9b86-45c5-bbcd-76577d065e27",
   "metadata": {},
   "outputs": [
    {
     "data": {
      "text/plain": [
       "tensor(45.)"
      ]
     },
     "execution_count": 22,
     "metadata": {},
     "output_type": "execute_result"
    }
   ],
   "source": [
    "x.to(torch.float32).mean()"
   ]
  },
  {
   "cell_type": "code",
   "execution_count": 15,
   "id": "2fd2c9a5-fdea-4caa-84d8-91e2373e5391",
   "metadata": {},
   "outputs": [
    {
     "data": {
      "text/plain": [
       "tensor(450.)"
      ]
     },
     "execution_count": 15,
     "metadata": {},
     "output_type": "execute_result"
    }
   ],
   "source": [
    "x.sum()"
   ]
  },
  {
   "cell_type": "code",
   "execution_count": 24,
   "id": "e53df35d-bb5a-4fde-9a82-e0cdcc74761c",
   "metadata": {},
   "outputs": [
    {
     "data": {
      "text/plain": [
       "tensor(0)"
      ]
     },
     "execution_count": 24,
     "metadata": {},
     "output_type": "execute_result"
    }
   ],
   "source": [
    "x.argmin()"
   ]
  },
  {
   "cell_type": "code",
   "execution_count": 25,
   "id": "2dbc2354-d788-44ab-a8b6-7b7f0948220f",
   "metadata": {},
   "outputs": [
    {
     "data": {
      "text/plain": [
       "tensor(9)"
      ]
     },
     "execution_count": 25,
     "metadata": {},
     "output_type": "execute_result"
    }
   ],
   "source": [
    "x.argmax()"
   ]
  },
  {
   "cell_type": "code",
   "execution_count": 33,
   "id": "b39cee38-138b-4b93-a2ef-159dccd2cdde",
   "metadata": {},
   "outputs": [
    {
     "data": {
      "text/plain": [
       "tensor([1, 2, 3, 4, 5, 6, 7, 8, 9])"
      ]
     },
     "execution_count": 33,
     "metadata": {},
     "output_type": "execute_result"
    }
   ],
   "source": [
    "x = torch.arange(1, 10)\n",
    "x"
   ]
  },
  {
   "cell_type": "code",
   "execution_count": 40,
   "id": "ec7ffa70-f1cd-4ee0-98f1-f10598f95411",
   "metadata": {},
   "outputs": [],
   "source": [
    "x_reshaped = x.reshape(9)"
   ]
  },
  {
   "cell_type": "code",
   "execution_count": 41,
   "id": "b06053ef-2c8e-43f1-a300-a0d0e5770117",
   "metadata": {},
   "outputs": [
    {
     "data": {
      "text/plain": [
       "tensor([1, 2, 3, 4, 5, 6, 7, 8, 9])"
      ]
     },
     "execution_count": 41,
     "metadata": {},
     "output_type": "execute_result"
    }
   ],
   "source": [
    "x_reshaped"
   ]
  },
  {
   "cell_type": "code",
   "execution_count": 36,
   "id": "ef2b4a95-8e3e-4faf-847b-e673aaa809e7",
   "metadata": {},
   "outputs": [
    {
     "data": {
      "text/plain": [
       "torch.Size([1])"
      ]
     },
     "execution_count": 36,
     "metadata": {},
     "output_type": "execute_result"
    }
   ],
   "source": [
    "p = torch.tensor([1])\n",
    "p.shape"
   ]
  },
  {
   "cell_type": "code",
   "execution_count": 37,
   "id": "4d3b3650-6552-4a96-b2f9-aadd7b968caf",
   "metadata": {},
   "outputs": [
    {
     "ename": "RuntimeError",
     "evalue": "shape '[0]' is invalid for input of size 1",
     "output_type": "error",
     "traceback": [
      "\u001b[0;31m---------------------------------------------------------------------------\u001b[0m",
      "\u001b[0;31mRuntimeError\u001b[0m                              Traceback (most recent call last)",
      "\u001b[0;32m/tmp/ipykernel_4491/2740883227.py\u001b[0m in \u001b[0;36m<module>\u001b[0;34m\u001b[0m\n\u001b[0;32m----> 1\u001b[0;31m \u001b[0mp\u001b[0m \u001b[0;34m=\u001b[0m \u001b[0mp\u001b[0m\u001b[0;34m.\u001b[0m\u001b[0mreshape\u001b[0m\u001b[0;34m(\u001b[0m\u001b[0;36m0\u001b[0m\u001b[0;34m)\u001b[0m\u001b[0;34m\u001b[0m\u001b[0;34m\u001b[0m\u001b[0m\n\u001b[0m\u001b[1;32m      2\u001b[0m \u001b[0mp\u001b[0m\u001b[0;34m.\u001b[0m\u001b[0mshape\u001b[0m\u001b[0;34m\u001b[0m\u001b[0;34m\u001b[0m\u001b[0m\n",
      "\u001b[0;31mRuntimeError\u001b[0m: shape '[0]' is invalid for input of size 1"
     ]
    }
   ],
   "source": [
    "p = p.reshape(0)\n",
    "p.shape"
   ]
  },
  {
   "cell_type": "code",
   "execution_count": 46,
   "id": "680b63ad-8e07-4817-a7fc-e6c4f2b3c347",
   "metadata": {},
   "outputs": [],
   "source": [
    "z = x.view(1, 9)"
   ]
  },
  {
   "cell_type": "code",
   "execution_count": 48,
   "id": "8523f968-5f80-413c-bca0-e598fc0421c5",
   "metadata": {},
   "outputs": [],
   "source": [
    "z[ : , 0] = 5"
   ]
  },
  {
   "cell_type": "code",
   "execution_count": 51,
   "id": "4770e070-4bc7-467c-a071-81fb4fb3369f",
   "metadata": {},
   "outputs": [
    {
     "data": {
      "text/plain": [
       "tensor(5)"
      ]
     },
     "execution_count": 51,
     "metadata": {},
     "output_type": "execute_result"
    }
   ],
   "source": [
    "x[0]"
   ]
  },
  {
   "cell_type": "code",
   "execution_count": 50,
   "id": "d290f684-95aa-4586-8c69-ea1901360912",
   "metadata": {},
   "outputs": [
    {
     "data": {
      "text/plain": [
       "tensor([[5, 2, 3, 4, 5, 6, 7, 8, 9]])"
      ]
     },
     "execution_count": 50,
     "metadata": {},
     "output_type": "execute_result"
    }
   ],
   "source": [
    "z"
   ]
  },
  {
   "cell_type": "code",
   "execution_count": 56,
   "id": "52d20c08-ba8e-40a8-b4fb-f420b3b8c088",
   "metadata": {},
   "outputs": [
    {
     "data": {
      "text/plain": [
       "tensor([[5, 5, 5, 5],\n",
       "        [2, 2, 2, 2],\n",
       "        [3, 3, 3, 3],\n",
       "        [4, 4, 4, 4],\n",
       "        [5, 5, 5, 5],\n",
       "        [6, 6, 6, 6],\n",
       "        [7, 7, 7, 7],\n",
       "        [8, 8, 8, 8],\n",
       "        [9, 9, 9, 9]])"
      ]
     },
     "execution_count": 56,
     "metadata": {},
     "output_type": "execute_result"
    }
   ],
   "source": [
    "x_stacked = torch.stack([x,x,x,x], dim = 1)\n",
    "x_stacked"
   ]
  },
  {
   "cell_type": "code",
   "execution_count": 57,
   "id": "3aa39630-5257-4e6c-9491-6cd784f43e56",
   "metadata": {},
   "outputs": [],
   "source": [
    "non_squeezed_tensor = torch.rand(2,1,3,2,1,2)\n",
    "\n",
    "squeezed_tensor = torch.squeeze(non_squeezed_tensor)"
   ]
  },
  {
   "cell_type": "code",
   "execution_count": 58,
   "id": "f4aabbe1-2325-43c0-8ab8-0cc0a03e90d9",
   "metadata": {},
   "outputs": [
    {
     "data": {
      "text/plain": [
       "(torch.Size([2, 1, 3, 2, 1, 2]), torch.Size([2, 3, 2, 2]))"
      ]
     },
     "execution_count": 58,
     "metadata": {},
     "output_type": "execute_result"
    }
   ],
   "source": [
    "non_squeezed_tensor.shape, squeezed_tensor.shape"
   ]
  },
  {
   "cell_type": "code",
   "execution_count": 63,
   "id": "1f0b2a2e-8908-494d-bac8-17f05cb0be55",
   "metadata": {},
   "outputs": [
    {
     "data": {
      "text/plain": [
       "(tensor([1, 2, 3, 4, 5, 6, 7, 8, 9]), torch.Size([9]))"
      ]
     },
     "execution_count": 63,
     "metadata": {},
     "output_type": "execute_result"
    }
   ],
   "source": [
    "a = torch.arange(1,10)\n",
    "a, a.shape"
   ]
  },
  {
   "cell_type": "code",
   "execution_count": 68,
   "id": "b5190762-c1df-4a4e-8c28-37e00614dc75",
   "metadata": {},
   "outputs": [
    {
     "data": {
      "text/plain": [
       "(tensor([[1],\n",
       "         [2],\n",
       "         [3],\n",
       "         [4],\n",
       "         [5],\n",
       "         [6],\n",
       "         [7],\n",
       "         [8],\n",
       "         [9]]),\n",
       " torch.Size([9, 1]))"
      ]
     },
     "execution_count": 68,
     "metadata": {},
     "output_type": "execute_result"
    }
   ],
   "source": [
    "a_unsqueezed = a.unsqueeze(1)\n",
    "a_unsqueezed, a_unsqueezed.shape"
   ]
  },
  {
   "cell_type": "code",
   "execution_count": 72,
   "id": "12a7039e-56d2-44fb-a55b-4d3fd67b743d",
   "metadata": {},
   "outputs": [],
   "source": [
    "# torch.premute - rearranges dimension of a tensor\n",
    "a = torch.rand(224, 224, 3) # [height, width, color]\n",
    "\n",
    "a_redim = torch.permute(a, (2, 0, 1)) # [color, height, width]"
   ]
  },
  {
   "cell_type": "code",
   "execution_count": 73,
   "id": "7cd78cba-634d-4a5d-97c0-1b91775fe5c1",
   "metadata": {},
   "outputs": [
    {
     "data": {
      "text/plain": [
       "torch.Size([3, 224, 224])"
      ]
     },
     "execution_count": 73,
     "metadata": {},
     "output_type": "execute_result"
    }
   ],
   "source": [
    "a_redim.shape"
   ]
  },
  {
   "cell_type": "code",
   "execution_count": 76,
   "id": "5b151706-6ebb-4bdd-a4df-05e563324e27",
   "metadata": {},
   "outputs": [
    {
     "data": {
      "text/plain": [
       "array([1., 2., 3., 4., 5., 6., 7.])"
      ]
     },
     "execution_count": 76,
     "metadata": {},
     "output_type": "execute_result"
    }
   ],
   "source": [
    "array = np.arange(1., 8.)\n",
    "array"
   ]
  },
  {
   "cell_type": "code",
   "execution_count": 80,
   "id": "f6f77862-e71c-4d0a-ae1f-30eb34cd01ca",
   "metadata": {},
   "outputs": [
    {
     "data": {
      "text/plain": [
       "tensor([1., 2., 3., 4., 5., 6., 7.])"
      ]
     },
     "execution_count": 80,
     "metadata": {},
     "output_type": "execute_result"
    }
   ],
   "source": [
    "tensor = torch.from_numpy(array)\n",
    "tensor.to(torch.float32)"
   ]
  },
  {
   "cell_type": "code",
   "execution_count": 84,
   "id": "40f5e364-9f92-4542-91de-dae809d2d636",
   "metadata": {},
   "outputs": [],
   "source": [
    "device = 'cuda:0' if torch.cuda.is_available() else 'cpu'"
   ]
  },
  {
   "cell_type": "code",
   "execution_count": 85,
   "id": "0129eb08-6231-48a7-8b30-a3696df3e5c5",
   "metadata": {},
   "outputs": [],
   "source": [
    "# tensor on GPU\n",
    "\n",
    "tensor_on_gpu = tensor.to(device)"
   ]
  },
  {
   "cell_type": "code",
   "execution_count": 86,
   "id": "8ff4852b-8046-4525-98f4-8a3d2616535a",
   "metadata": {},
   "outputs": [
    {
     "data": {
      "text/plain": [
       "device(type='cpu')"
      ]
     },
     "execution_count": 86,
     "metadata": {},
     "output_type": "execute_result"
    }
   ],
   "source": [
    "tensor.device"
   ]
  },
  {
   "cell_type": "code",
   "execution_count": null,
   "id": "f61387b7-f4d9-489c-825f-ff0a1cab8b20",
   "metadata": {},
   "outputs": [],
   "source": []
  }
 ],
 "metadata": {
  "kernelspec": {
   "display_name": "Python 3 (ipykernel)",
   "language": "python",
   "name": "python3"
  },
  "language_info": {
   "codemirror_mode": {
    "name": "ipython",
    "version": 3
   },
   "file_extension": ".py",
   "mimetype": "text/x-python",
   "name": "python",
   "nbconvert_exporter": "python",
   "pygments_lexer": "ipython3",
   "version": "3.10.12"
  }
 },
 "nbformat": 4,
 "nbformat_minor": 5
}
