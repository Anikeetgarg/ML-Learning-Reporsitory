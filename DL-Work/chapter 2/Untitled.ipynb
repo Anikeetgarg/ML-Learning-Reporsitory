{
 "cells": [
  {
   "cell_type": "code",
   "execution_count": 2,
   "id": "1b30f597-a7d2-43a9-869f-6863a7cc55d7",
   "metadata": {},
   "outputs": [],
   "source": [
    "import numpy as np\n",
    "import pandas as pd\n",
    "import matplotlib.pyplot\n",
    "import seaborn as sns\n",
    "import torch\n",
    "import ipdb"
   ]
  },
  {
   "cell_type": "code",
   "execution_count": 3,
   "id": "e246b508-74db-4c05-924a-c76bc5ae88bc",
   "metadata": {},
   "outputs": [],
   "source": [
    "scaler = torch.tensor(0)"
   ]
  },
  {
   "cell_type": "code",
   "execution_count": 4,
   "id": "a79d4297-9488-4e3c-91e5-c3160ad0ec24",
   "metadata": {},
   "outputs": [
    {
     "data": {
      "text/plain": [
       "torch.Size([])"
      ]
     },
     "execution_count": 4,
     "metadata": {},
     "output_type": "execute_result"
    }
   ],
   "source": [
    "scaler.shape"
   ]
  },
  {
   "cell_type": "code",
   "execution_count": 5,
   "id": "60940f8e-8f1e-4bdf-bd2b-a284ae7c3405",
   "metadata": {},
   "outputs": [
    {
     "data": {
      "text/plain": [
       "1"
      ]
     },
     "execution_count": 5,
     "metadata": {},
     "output_type": "execute_result"
    }
   ],
   "source": [
    "vector = torch.tensor([0,1])\n",
    "vector.ndim"
   ]
  },
  {
   "cell_type": "code",
   "execution_count": 6,
   "id": "d7fdef8d-9cc1-456d-87c8-23e16770ff8f",
   "metadata": {},
   "outputs": [
    {
     "data": {
      "text/plain": [
       "torch.Size([2])"
      ]
     },
     "execution_count": 6,
     "metadata": {},
     "output_type": "execute_result"
    }
   ],
   "source": [
    "vector.shape"
   ]
  },
  {
   "cell_type": "code",
   "execution_count": 7,
   "id": "8a9e3084-629b-463c-b7a9-f2ece90a442f",
   "metadata": {},
   "outputs": [
    {
     "data": {
      "text/plain": [
       "2"
      ]
     },
     "execution_count": 7,
     "metadata": {},
     "output_type": "execute_result"
    }
   ],
   "source": [
    "MATRIX = torch.tensor([[0,1],[2,3]])\n",
    "MATRIX.ndim"
   ]
  },
  {
   "cell_type": "code",
   "execution_count": 8,
   "id": "f9981046-65c7-4208-8aea-2a854171c410",
   "metadata": {},
   "outputs": [
    {
     "data": {
      "text/plain": [
       "torch.Size([2, 2])"
      ]
     },
     "execution_count": 8,
     "metadata": {},
     "output_type": "execute_result"
    }
   ],
   "source": [
    "MATRIX.shape"
   ]
  },
  {
   "cell_type": "code",
   "execution_count": 9,
   "id": "67b7bd0a-b358-465a-b757-5f18a473e63d",
   "metadata": {},
   "outputs": [],
   "source": [
    "TENSOR = torch.rand(3,3,3)"
   ]
  },
  {
   "cell_type": "code",
   "execution_count": 10,
   "id": "871bd15c-db88-483f-90ec-b4044c4f7489",
   "metadata": {},
   "outputs": [
    {
     "data": {
      "text/plain": [
       "tensor([[[0.5727, 0.4159, 0.1507],\n",
       "         [0.0926, 0.8460, 0.0524],\n",
       "         [0.9779, 0.5449, 0.5045]],\n",
       "\n",
       "        [[0.9508, 0.5077, 0.9568],\n",
       "         [0.0026, 0.9637, 0.1984],\n",
       "         [0.7816, 0.2220, 0.8235]],\n",
       "\n",
       "        [[0.6660, 0.3164, 0.3295],\n",
       "         [0.3164, 0.9443, 0.2946],\n",
       "         [0.9671, 0.8412, 0.0212]]])"
      ]
     },
     "execution_count": 10,
     "metadata": {},
     "output_type": "execute_result"
    }
   ],
   "source": [
    "TENSOR"
   ]
  },
  {
   "cell_type": "code",
   "execution_count": 11,
   "id": "ec7d6040-57ec-4634-b609-ffb3e0330511",
   "metadata": {},
   "outputs": [],
   "source": [
    "TENSOR_10_10_ZERO = torch.zeros(10,10)"
   ]
  },
  {
   "cell_type": "code",
   "execution_count": 12,
   "id": "feae5c2b-9bfc-49b6-a984-35793b293f31",
   "metadata": {},
   "outputs": [
    {
     "data": {
      "text/plain": [
       "tensor([[[0.5727, 0.4159, 0.1507],\n",
       "         [0.0926, 0.8460, 0.0524],\n",
       "         [0.9779, 0.5449, 0.5045]],\n",
       "\n",
       "        [[0.9508, 0.5077, 0.9568],\n",
       "         [0.0026, 0.9637, 0.1984],\n",
       "         [0.7816, 0.2220, 0.8235]],\n",
       "\n",
       "        [[0.6660, 0.3164, 0.3295],\n",
       "         [0.3164, 0.9443, 0.2946],\n",
       "         [0.9671, 0.8412, 0.0212]]])"
      ]
     },
     "execution_count": 12,
     "metadata": {},
     "output_type": "execute_result"
    }
   ],
   "source": [
    "TENSOR"
   ]
  },
  {
   "cell_type": "code",
   "execution_count": 13,
   "id": "d245992a-288b-4be6-8f3d-31ef3fda7c98",
   "metadata": {},
   "outputs": [
    {
     "data": {
      "text/plain": [
       "tensor([0, 1, 2, 3, 4, 5, 6, 7, 8, 9])"
      ]
     },
     "execution_count": 13,
     "metadata": {},
     "output_type": "execute_result"
    }
   ],
   "source": [
    "A_RANGE = torch.arange(start = 0, end = 10, step = 1)\n",
    "A_RANGE"
   ]
  },
  {
   "cell_type": "code",
   "execution_count": 14,
   "id": "a084fe33-3e76-4de7-b473-1ab3177f2b0a",
   "metadata": {},
   "outputs": [
    {
     "data": {
      "text/plain": [
       "tensor([0, 0, 0, 0, 0, 0, 0, 0, 0, 0])"
      ]
     },
     "execution_count": 14,
     "metadata": {},
     "output_type": "execute_result"
    }
   ],
   "source": [
    "copy_A_RANGE_zeros = torch.zeros_like(A_RANGE)\n",
    "copy_A_RANGE_zeros"
   ]
  },
  {
   "cell_type": "code",
   "execution_count": 15,
   "id": "636014c6-963f-46c1-a465-ccce7eefdb7a",
   "metadata": {},
   "outputs": [
    {
     "ename": "RuntimeError",
     "evalue": "No CUDA GPUs are available",
     "output_type": "error",
     "traceback": [
      "\u001b[0;31m---------------------------------------------------------------------------\u001b[0m",
      "\u001b[0;31mRuntimeError\u001b[0m                              Traceback (most recent call last)",
      "\u001b[0;32m/tmp/ipykernel_38281/1533870926.py\u001b[0m in \u001b[0;36m<module>\u001b[0;34m\u001b[0m\n\u001b[1;32m      1\u001b[0m \u001b[0mcuda0\u001b[0m \u001b[0;34m=\u001b[0m \u001b[0mtorch\u001b[0m\u001b[0;34m.\u001b[0m\u001b[0mdevice\u001b[0m\u001b[0;34m(\u001b[0m\u001b[0;34m'cuda:0'\u001b[0m\u001b[0;34m)\u001b[0m\u001b[0;34m\u001b[0m\u001b[0;34m\u001b[0m\u001b[0m\n\u001b[1;32m      2\u001b[0m \u001b[0;34m\u001b[0m\u001b[0m\n\u001b[0;32m----> 3\u001b[0;31m float_32_tensor = torch.tensor([2., 3., 5.],\n\u001b[0m\u001b[1;32m      4\u001b[0m                                 \u001b[0mdtype\u001b[0m \u001b[0;34m=\u001b[0m \u001b[0mtorch\u001b[0m\u001b[0;34m.\u001b[0m\u001b[0mfloat32\u001b[0m\u001b[0;34m,\u001b[0m\u001b[0;34m\u001b[0m\u001b[0;34m\u001b[0m\u001b[0m\n\u001b[1;32m      5\u001b[0m                                 \u001b[0mdevice\u001b[0m\u001b[0;34m=\u001b[0m \u001b[0mcuda0\u001b[0m\u001b[0;34m,\u001b[0m\u001b[0;34m\u001b[0m\u001b[0;34m\u001b[0m\u001b[0m\n",
      "\u001b[0;32m~/.local/lib/python3.10/site-packages/torch/cuda/__init__.py\u001b[0m in \u001b[0;36m_lazy_init\u001b[0;34m()\u001b[0m\n\u001b[1;32m    291\u001b[0m         \u001b[0;32mif\u001b[0m \u001b[0;34m\"CUDA_MODULE_LOADING\"\u001b[0m \u001b[0;32mnot\u001b[0m \u001b[0;32min\u001b[0m \u001b[0mos\u001b[0m\u001b[0;34m.\u001b[0m\u001b[0menviron\u001b[0m\u001b[0;34m:\u001b[0m\u001b[0;34m\u001b[0m\u001b[0;34m\u001b[0m\u001b[0m\n\u001b[1;32m    292\u001b[0m             \u001b[0mos\u001b[0m\u001b[0;34m.\u001b[0m\u001b[0menviron\u001b[0m\u001b[0;34m[\u001b[0m\u001b[0;34m\"CUDA_MODULE_LOADING\"\u001b[0m\u001b[0;34m]\u001b[0m \u001b[0;34m=\u001b[0m \u001b[0;34m\"LAZY\"\u001b[0m\u001b[0;34m\u001b[0m\u001b[0;34m\u001b[0m\u001b[0m\n\u001b[0;32m--> 293\u001b[0;31m         \u001b[0mtorch\u001b[0m\u001b[0;34m.\u001b[0m\u001b[0m_C\u001b[0m\u001b[0;34m.\u001b[0m\u001b[0m_cuda_init\u001b[0m\u001b[0;34m(\u001b[0m\u001b[0;34m)\u001b[0m\u001b[0;34m\u001b[0m\u001b[0;34m\u001b[0m\u001b[0m\n\u001b[0m\u001b[1;32m    294\u001b[0m         \u001b[0;31m# Some of the queued calls may reentrantly call _lazy_init();\u001b[0m\u001b[0;34m\u001b[0m\u001b[0;34m\u001b[0m\u001b[0m\n\u001b[1;32m    295\u001b[0m         \u001b[0;31m# we need to just return without initializing in that case.\u001b[0m\u001b[0;34m\u001b[0m\u001b[0;34m\u001b[0m\u001b[0m\n",
      "\u001b[0;31mRuntimeError\u001b[0m: No CUDA GPUs are available"
     ]
    }
   ],
   "source": [
    "cuda0 = torch.device('cuda:0')\n",
    "\n",
    "float_32_tensor = torch.tensor([2., 3., 5.],\n",
    "                                dtype = torch.float32,\n",
    "                                device= cuda0,\n",
    "                               requires_grad = True)"
   ]
  },
  {
   "cell_type": "code",
   "execution_count": 17,
   "id": "e7437001-ae2a-4a48-a786-83c86f6c2c98",
   "metadata": {},
   "outputs": [
    {
     "ename": "NameError",
     "evalue": "name 'float_32_tensor' is not defined",
     "output_type": "error",
     "traceback": [
      "\u001b[0;31m---------------------------------------------------------------------------\u001b[0m",
      "\u001b[0;31mNameError\u001b[0m                                 Traceback (most recent call last)",
      "\u001b[0;32m/tmp/ipykernel_38281/3329792224.py\u001b[0m in \u001b[0;36m<module>\u001b[0;34m\u001b[0m\n\u001b[0;32m----> 1\u001b[0;31m \u001b[0mfloat_32_tensor\u001b[0m\u001b[0;34m.\u001b[0m\u001b[0mshape\u001b[0m\u001b[0;34m,\u001b[0m \u001b[0mfloat_32_tensor\u001b[0m\u001b[0;34m.\u001b[0m\u001b[0mdtype\u001b[0m\u001b[0;34m,\u001b[0m \u001b[0mfloat_32_tensor\u001b[0m\u001b[0;34m.\u001b[0m\u001b[0mdevice\u001b[0m\u001b[0;34m\u001b[0m\u001b[0;34m\u001b[0m\u001b[0m\n\u001b[0m",
      "\u001b[0;31mNameError\u001b[0m: name 'float_32_tensor' is not defined"
     ]
    }
   ],
   "source": [
    "float_32_tensor.shape, float_32_tensor.dtype, float_32_tensor.device"
   ]
  },
  {
   "cell_type": "code",
   "execution_count": 18,
   "id": "43855512-79b7-497c-863e-b3d2e9c59c40",
   "metadata": {},
   "outputs": [
    {
     "name": "stdout",
     "output_type": "stream",
     "text": [
      "False\n"
     ]
    }
   ],
   "source": [
    "print(torch.cuda.is_available())"
   ]
  },
  {
   "cell_type": "code",
   "execution_count": 19,
   "id": "7174f2af-5285-475a-881b-c1b85142014a",
   "metadata": {},
   "outputs": [],
   "source": [
    "tensor = torch.tensor([1,2,3])"
   ]
  },
  {
   "cell_type": "code",
   "execution_count": 20,
   "id": "ad4690cf-c0b7-48e4-a5f9-7ca8045747ac",
   "metadata": {},
   "outputs": [
    {
     "data": {
      "text/plain": [
       "tensor([11, 12, 13])"
      ]
     },
     "execution_count": 20,
     "metadata": {},
     "output_type": "execute_result"
    }
   ],
   "source": [
    "tensor + 10"
   ]
  },
  {
   "cell_type": "code",
   "execution_count": 21,
   "id": "c6fa0751-6f48-4f44-99db-936de5a6de2a",
   "metadata": {},
   "outputs": [
    {
     "data": {
      "text/plain": [
       "tensor([10, 20, 30])"
      ]
     },
     "execution_count": 21,
     "metadata": {},
     "output_type": "execute_result"
    }
   ],
   "source": [
    "tensor * 10"
   ]
  },
  {
   "cell_type": "code",
   "execution_count": 22,
   "id": "eb1e3852-d44a-4f1c-ba0f-7ec5a9f62eaf",
   "metadata": {},
   "outputs": [
    {
     "data": {
      "text/plain": [
       "tensor([-9, -8, -7])"
      ]
     },
     "execution_count": 22,
     "metadata": {},
     "output_type": "execute_result"
    }
   ],
   "source": [
    "tensor - 10"
   ]
  },
  {
   "cell_type": "code",
   "execution_count": 23,
   "id": "e509e577-5812-471b-a2c8-8f8eb3b93128",
   "metadata": {},
   "outputs": [
    {
     "data": {
      "text/plain": [
       "tensor([-9, -8, -7])"
      ]
     },
     "execution_count": 23,
     "metadata": {},
     "output_type": "execute_result"
    }
   ],
   "source": [
    "tensor = tensor - 10\n",
    "tensor"
   ]
  },
  {
   "cell_type": "code",
   "execution_count": 24,
   "id": "2d057ea3-0562-4c4d-b1c9-05ab60786db8",
   "metadata": {},
   "outputs": [
    {
     "data": {
      "text/plain": [
       "tensor([1, 2, 3])"
      ]
     },
     "execution_count": 24,
     "metadata": {},
     "output_type": "execute_result"
    }
   ],
   "source": [
    "tensor += 10\n",
    "tensor"
   ]
  },
  {
   "cell_type": "code",
   "execution_count": 25,
   "id": "f95e64d5-fef8-42e8-b14f-2d78287ea4ca",
   "metadata": {},
   "outputs": [
    {
     "data": {
      "text/plain": [
       "tensor([10, 20, 30])"
      ]
     },
     "execution_count": 25,
     "metadata": {},
     "output_type": "execute_result"
    }
   ],
   "source": [
    "torch.mul(tensor, 10)"
   ]
  },
  {
   "cell_type": "code",
   "execution_count": 26,
   "id": "c3b3b7dd-1527-496d-8a54-824bdc26e132",
   "metadata": {},
   "outputs": [
    {
     "data": {
      "text/plain": [
       "tensor([1, 4, 9])"
      ]
     },
     "execution_count": 26,
     "metadata": {},
     "output_type": "execute_result"
    }
   ],
   "source": [
    "tensor * tensor"
   ]
  },
  {
   "cell_type": "code",
   "execution_count": 27,
   "id": "39d3b39d-5519-4bcd-bb11-b67a775a929e",
   "metadata": {},
   "outputs": [
    {
     "data": {
      "text/plain": [
       "tensor(14)"
      ]
     },
     "execution_count": 27,
     "metadata": {},
     "output_type": "execute_result"
    }
   ],
   "source": [
    "tensor.matmul(tensor) # same as \n",
    "torch.matmul(tensor, tensor) # # same as \n",
    "tensor @ tensor"
   ]
  },
  {
   "cell_type": "code",
   "execution_count": 28,
   "id": "8dd015ed-ca15-4e6f-8c8d-2f5fd80d456b",
   "metadata": {},
   "outputs": [],
   "source": [
    "p = np.array([1.2,2.2,3.2])"
   ]
  },
  {
   "cell_type": "code",
   "execution_count": 29,
   "id": "3d46dee2-d200-492f-8c6a-f269ea205284",
   "metadata": {},
   "outputs": [],
   "source": [
    "tensor_p = torch.from_numpy(p)"
   ]
  },
  {
   "cell_type": "code",
   "execution_count": 30,
   "id": "4c613b42-52ae-4414-9305-fdebe961baeb",
   "metadata": {},
   "outputs": [
    {
     "data": {
      "text/plain": [
       "tensor([1.2000, 2.2000, 3.2000], dtype=torch.float64)"
      ]
     },
     "execution_count": 30,
     "metadata": {},
     "output_type": "execute_result"
    }
   ],
   "source": [
    "tensor_p"
   ]
  },
  {
   "cell_type": "code",
   "execution_count": 31,
   "id": "6644d688-dbb0-43f1-af9b-cabb4a19a044",
   "metadata": {},
   "outputs": [],
   "source": [
    "tensor_p = tensor_p.to(torch.float32)"
   ]
  },
  {
   "cell_type": "code",
   "execution_count": 32,
   "id": "a93316cf-d36a-4139-b59d-704c7f1e93f3",
   "metadata": {},
   "outputs": [
    {
     "data": {
      "text/plain": [
       "torch.float32"
      ]
     },
     "execution_count": 32,
     "metadata": {},
     "output_type": "execute_result"
    }
   ],
   "source": [
    "tensor_p.dtype"
   ]
  },
  {
   "cell_type": "code",
   "execution_count": 33,
   "id": "fbc05de0-fde9-4d32-b34f-871df4ec9cf1",
   "metadata": {},
   "outputs": [
    {
     "data": {
      "text/plain": [
       "tensor([[0.4629, 0.9817, 0.5260],\n",
       "        [0.3161, 0.8827, 0.7309]])"
      ]
     },
     "execution_count": 33,
     "metadata": {},
     "output_type": "execute_result"
    }
   ],
   "source": [
    "TENSOR = torch.rand(2,3)\n",
    "TENSOR"
   ]
  },
  {
   "cell_type": "code",
   "execution_count": 34,
   "id": "a152c85d-dcea-4607-b828-4ed1acc98501",
   "metadata": {},
   "outputs": [
    {
     "data": {
      "text/plain": [
       "tensor([[0.4629, 0.3161],\n",
       "        [0.9817, 0.8827],\n",
       "        [0.5260, 0.7309]])"
      ]
     },
     "execution_count": 34,
     "metadata": {},
     "output_type": "execute_result"
    }
   ],
   "source": [
    "TENSOR.T"
   ]
  },
  {
   "cell_type": "code",
   "execution_count": 16,
   "id": "ad74693e-9676-4571-a53f-12d41a6f7c39",
   "metadata": {},
   "outputs": [
    {
     "ename": "SyntaxError",
     "evalue": "invalid syntax (2964566908.py, line 1)",
     "output_type": "error",
     "traceback": [
      "\u001b[0;36m  File \u001b[0;32m\"/tmp/ipykernel_38281/2964566908.py\"\u001b[0;36m, line \u001b[0;32m1\u001b[0m\n\u001b[0;31m    torch.\u001b[0m\n\u001b[0m           ^\u001b[0m\n\u001b[0;31mSyntaxError\u001b[0m\u001b[0;31m:\u001b[0m invalid syntax\n"
     ]
    }
   ],
   "source": [
    "torch. "
   ]
  },
  {
   "cell_type": "code",
   "execution_count": null,
   "id": "e87579c1-61e3-45c8-b7c8-705996b07c75",
   "metadata": {},
   "outputs": [],
   "source": []
  }
 ],
 "metadata": {
  "kernelspec": {
   "display_name": "Python 3 (ipykernel)",
   "language": "python",
   "name": "python3"
  },
  "language_info": {
   "codemirror_mode": {
    "name": "ipython",
    "version": 3
   },
   "file_extension": ".py",
   "mimetype": "text/x-python",
   "name": "python",
   "nbconvert_exporter": "python",
   "pygments_lexer": "ipython3",
   "version": "3.10.12"
  }
 },
 "nbformat": 4,
 "nbformat_minor": 5
}
