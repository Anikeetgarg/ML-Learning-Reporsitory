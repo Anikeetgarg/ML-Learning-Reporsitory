{
 "cells": [
  {
   "cell_type": "code",
   "execution_count": 42,
   "id": "09c186d2-4f36-4bd2-89b5-73409af9927a",
   "metadata": {},
   "outputs": [],
   "source": [
    "import pandas as pd\n",
    "import seaborn as sns\n",
    "import numpy as np\n",
    "import matplotlib.pyplot as plt\n",
    "import random"
   ]
  },
  {
   "cell_type": "code",
   "execution_count": 2,
   "id": "2191d3ed-cfe8-422b-a542-158e9e20b3b8",
   "metadata": {},
   "outputs": [],
   "source": [
    "df = pd.read_csv('perceptron_toydata-truncated.txt', sep= \"\\t\")"
   ]
  },
  {
   "cell_type": "code",
   "execution_count": 3,
   "id": "2ce3f129-ed52-4599-80b4-0ecec9950dd9",
   "metadata": {},
   "outputs": [
    {
     "name": "stdout",
     "output_type": "stream",
     "text": [
      "<class 'pandas.core.frame.DataFrame'>\n",
      "RangeIndex: 20 entries, 0 to 19\n",
      "Data columns (total 3 columns):\n",
      " #   Column  Non-Null Count  Dtype  \n",
      "---  ------  --------------  -----  \n",
      " 0   x1      20 non-null     float64\n",
      " 1   x2      20 non-null     float64\n",
      " 2   label   20 non-null     int64  \n",
      "dtypes: float64(2), int64(1)\n",
      "memory usage: 608.0 bytes\n"
     ]
    }
   ],
   "source": [
    "df.info()"
   ]
  },
  {
   "cell_type": "code",
   "execution_count": 4,
   "id": "1e160150-96db-4db4-b08b-3ca98fade086",
   "metadata": {},
   "outputs": [
    {
     "data": {
      "text/html": [
       "<div>\n",
       "<style scoped>\n",
       "    .dataframe tbody tr th:only-of-type {\n",
       "        vertical-align: middle;\n",
       "    }\n",
       "\n",
       "    .dataframe tbody tr th {\n",
       "        vertical-align: top;\n",
       "    }\n",
       "\n",
       "    .dataframe thead th {\n",
       "        text-align: right;\n",
       "    }\n",
       "</style>\n",
       "<table border=\"1\" class=\"dataframe\">\n",
       "  <thead>\n",
       "    <tr style=\"text-align: right;\">\n",
       "      <th></th>\n",
       "      <th>x1</th>\n",
       "      <th>x2</th>\n",
       "      <th>label</th>\n",
       "    </tr>\n",
       "  </thead>\n",
       "  <tbody>\n",
       "    <tr>\n",
       "      <th>count</th>\n",
       "      <td>20.000000</td>\n",
       "      <td>20.000000</td>\n",
       "      <td>20.000000</td>\n",
       "    </tr>\n",
       "    <tr>\n",
       "      <th>mean</th>\n",
       "      <td>0.737500</td>\n",
       "      <td>0.397500</td>\n",
       "      <td>0.500000</td>\n",
       "    </tr>\n",
       "    <tr>\n",
       "      <th>std</th>\n",
       "      <td>1.090171</td>\n",
       "      <td>2.546903</td>\n",
       "      <td>0.512989</td>\n",
       "    </tr>\n",
       "    <tr>\n",
       "      <th>min</th>\n",
       "      <td>-0.680000</td>\n",
       "      <td>-3.430000</td>\n",
       "      <td>0.000000</td>\n",
       "    </tr>\n",
       "    <tr>\n",
       "      <th>25%</th>\n",
       "      <td>-0.157500</td>\n",
       "      <td>-1.920000</td>\n",
       "      <td>0.000000</td>\n",
       "    </tr>\n",
       "    <tr>\n",
       "      <th>50%</th>\n",
       "      <td>0.800000</td>\n",
       "      <td>0.950000</td>\n",
       "      <td>0.500000</td>\n",
       "    </tr>\n",
       "    <tr>\n",
       "      <th>75%</th>\n",
       "      <td>1.315000</td>\n",
       "      <td>2.605000</td>\n",
       "      <td>1.000000</td>\n",
       "    </tr>\n",
       "    <tr>\n",
       "      <th>max</th>\n",
       "      <td>3.880000</td>\n",
       "      <td>3.940000</td>\n",
       "      <td>1.000000</td>\n",
       "    </tr>\n",
       "  </tbody>\n",
       "</table>\n",
       "</div>"
      ],
      "text/plain": [
       "              x1         x2      label\n",
       "count  20.000000  20.000000  20.000000\n",
       "mean    0.737500   0.397500   0.500000\n",
       "std     1.090171   2.546903   0.512989\n",
       "min    -0.680000  -3.430000   0.000000\n",
       "25%    -0.157500  -1.920000   0.000000\n",
       "50%     0.800000   0.950000   0.500000\n",
       "75%     1.315000   2.605000   1.000000\n",
       "max     3.880000   3.940000   1.000000"
      ]
     },
     "execution_count": 4,
     "metadata": {},
     "output_type": "execute_result"
    }
   ],
   "source": [
    "df.describe()"
   ]
  },
  {
   "cell_type": "code",
   "execution_count": 5,
   "id": "3d09d45d-77aa-418a-a014-c53638fe575c",
   "metadata": {},
   "outputs": [],
   "source": [
    "X_train = df[[\"x1\", \"x2\"]].values\n",
    "y_train = df[\"label\"].values"
   ]
  },
  {
   "cell_type": "code",
   "execution_count": 7,
   "id": "083e54b0-2fe7-40d7-9ca7-eb2043782e4b",
   "metadata": {},
   "outputs": [
    {
     "data": {
      "image/png": "[encoded data removed]",
      "text/plain": [
       "<Figure size 432x288 with 1 Axes>"
      ]
     },
     "metadata": {
      "needs_background": "light"
     },
     "output_type": "display_data"
    }
   ],
   "source": [
    "plt.scatter(data = df , x = \"x1\", y = \"x2\", c = \"label\")\n",
    "\n",
    "\n",
    "plt.xlim([-5, 5])\n",
    "plt.ylim([-5, 5])\n",
    "plt.xlabel(\"$x_1$\")\n",
    "plt.ylabel(\"$x_2$\")\n",
    "plt.grid()"
   ]
  },
  {
   "cell_type": "code",
   "execution_count": 8,
   "id": "18e72b56-d5bd-4753-a93c-7d1e4c23ef89",
   "metadata": {},
   "outputs": [],
   "source": [
    "class Perceptron:\n",
    "    def __init__(self, num_features):\n",
    "        self.num_features = num_features\n",
    "        self.weights = [0.0 for _ in range(num_features)]\n",
    "        self.bias = 0.0"
   ]
  },
  {
   "cell_type": "code",
   "execution_count": 12,
   "id": "10bccd64-a05b-4a62-8740-30a24a53d91c",
   "metadata": {},
   "outputs": [],
   "source": [
    "ppn = Perceptron(2)"
   ]
  },
  {
   "cell_type": "code",
   "execution_count": 13,
   "id": "22968af1-f2ed-4efc-bbe1-c322f2455a82",
   "metadata": {},
   "outputs": [
    {
     "data": {
      "text/plain": [
       "[0.0, 0.0]"
      ]
     },
     "execution_count": 13,
     "metadata": {},
     "output_type": "execute_result"
    }
   ],
   "source": [
    "ppn.weights"
   ]
  },
  {
   "cell_type": "code",
   "execution_count": 14,
   "id": "f1aa2983-bd37-4ec1-89cd-7d503d8fca42",
   "metadata": {},
   "outputs": [
    {
     "data": {
      "text/plain": [
       "0.0"
      ]
     },
     "execution_count": 14,
     "metadata": {},
     "output_type": "execute_result"
    }
   ],
   "source": [
    "ppn.bias"
   ]
  },
  {
   "cell_type": "code",
   "execution_count": 39,
   "id": "cd7b6270-d13f-4e9c-aa62-47c217146251",
   "metadata": {},
   "outputs": [],
   "source": [
    "class Perceptron:\n",
    "    def __init__(self, num_features):\n",
    "        self.num_features = num_features\n",
    "        self.weights = [0.0 for _ in range(num_features)]\n",
    "        self.bias = 0.0\n",
    "\n",
    "    def forward(self, x):\n",
    "        weighted_sum_z = self.bias\n",
    "        for i, _ in enumerate(self.weights):\n",
    "            weighted_sum_z += x[i] * self.weights[i]\n",
    "\n",
    "        if weighted_sum_z > 0.0:\n",
    "            prediction = 1\n",
    "        else:\n",
    "            prediction = 0\n",
    "        return prediction"
   ]
  },
  {
   "cell_type": "code",
   "execution_count": 40,
   "id": "1615a46e-8bec-412f-8780-7e62f8e65970",
   "metadata": {},
   "outputs": [],
   "source": [
    "ppn = Perceptron(2)\n",
    "ppn.forward([1.1, 2.1])\n",
    "random.seed(123)"
   ]
  },
  {
   "cell_type": "code",
   "execution_count": 49,
   "id": "1d1218f9-bfd0-4986-a0f7-36d8b23a16c0",
   "metadata": {},
   "outputs": [],
   "source": [
    "class Perceptron:\n",
    "    def __init__(self, num_features, alpha = 1.):\n",
    "        self.num_features = num_features\n",
    "        self.weights = [random.uniform(-0.5, 0.5) for _ in range(num_features)]\n",
    "        self.bias = random.uniform(-0.5, 0.5)\n",
    "        self.alpha = alpha\n",
    "\n",
    "    def forward(self, x):\n",
    "        weighted_sum_z = self.bias\n",
    "        for i, _ in enumerate(self.weights):\n",
    "            weighted_sum_z += x[i] * self.weights[i]\n",
    "\n",
    "        if weighted_sum_z > 0.0:\n",
    "            prediction = 1\n",
    "        else:\n",
    "            prediction = 0\n",
    "\n",
    "        return prediction\n",
    "\n",
    "    def update(self, x, true_y):\n",
    "        prediction = self.forward(x)\n",
    "        error = true_y - prediction\n",
    "\n",
    "        # update\n",
    "        self.bias += error * self.alpha\n",
    "        for i, _ in enumerate(self.weights):\n",
    "            self.weights[i] += error * x[i] * self.alpha\n",
    "\n",
    "        return error"
   ]
  },
  {
   "cell_type": "code",
   "execution_count": 52,
   "id": "4cbe5a25-5ffe-4c8d-b845-144bff9f38d5",
   "metadata": {},
   "outputs": [
    {
     "data": {
      "text/plain": [
       "1"
      ]
     },
     "execution_count": 52,
     "metadata": {},
     "output_type": "execute_result"
    }
   ],
   "source": [
    "ppn = Perceptron(2, alpha = 1)\n",
    "x = [1.1, 2.1]\n",
    "ppn.update(x, 1)"
   ]
  },
  {
   "cell_type": "code",
   "execution_count": 53,
   "id": "2a3196c8-8157-4d44-86ff-dc9faa6d3d4c",
   "metadata": {},
   "outputs": [
    {
     "name": "stdout",
     "output_type": "stream",
     "text": [
      "Model parametres = [0.8451633525176112, 1.6016705535792228],\n",
      "Model bias = 0.9362757934152184\n"
     ]
    }
   ],
   "source": [
    "print(f\"Model parametres = {ppn.weights},\\nModel bias = {ppn.bias}\")"
   ]
  },
  {
   "cell_type": "code",
   "execution_count": 54,
   "id": "57502bdd-5e51-4c4f-8d4d-6485bf37bfc5",
   "metadata": {},
   "outputs": [],
   "source": [
    "    def train(model, all_x, all_y, epochs):\n",
    "    \n",
    "        for epoch in range(epochs):\n",
    "            error_count = 0\n",
    "    \n",
    "            for x, y in zip(all_x, all_y):\n",
    "                error = model.update(x, y)\n",
    "                error_count += abs(error)\n",
    "        \n",
    "            print(f\"Ephocs {epoch + 1} errors = {error_count}\")\n",
    "            if error_count == 0:\n",
    "                return"
   ]
  },
  {
   "cell_type": "code",
   "execution_count": 57,
   "id": "307d8543-17a4-4dc9-9cea-ca197d73028a",
   "metadata": {},
   "outputs": [
    {
     "name": "stdout",
     "output_type": "stream",
     "text": [
      "Ephocs 1 errors = 4\n",
      "Ephocs 2 errors = 1\n",
      "Ephocs 3 errors = 0\n"
     ]
    }
   ],
   "source": [
    "ppn = Perceptron(num_features = 2, alpha = 0.5)\n",
    "\n",
    "train(model=ppn, all_x= X_train,all_y= y_train, epochs=10)"
   ]
  },
  {
   "cell_type": "code",
   "execution_count": 30,
   "id": "4364f224-f766-4dbb-8549-2cadd0413b35",
   "metadata": {},
   "outputs": [],
   "source": [
    "def compute_accuracy(model, all_x, all_y):\n",
    "    correct = 0.\n",
    "    for x, y in zip(all_x, all_y):\n",
    "        predict = model.forward(x)\n",
    "        correct += int(predict == y)\n",
    "\n",
    "    return correct / len(all_x)"
   ]
  },
  {
   "cell_type": "code",
   "execution_count": 31,
   "id": "b9063f18-432b-4d9d-8aaf-099f3b8c8fc0",
   "metadata": {},
   "outputs": [
    {
     "data": {
      "text/plain": [
       "1.0"
      ]
     },
     "execution_count": 31,
     "metadata": {},
     "output_type": "execute_result"
    }
   ],
   "source": [
    "compute_accuracy(ppn, X_train, y_train)"
   ]
  },
  {
   "cell_type": "code",
   "execution_count": null,
   "id": "5323c591-2ca6-480a-8a23-164d2d25cce6",
   "metadata": {},
   "outputs": [],
   "source": []
  }
 ],
 "metadata": {
  "kernelspec": {
   "display_name": "Python 3 (ipykernel)",
   "language": "python",
   "name": "python3"
  },
  "language_info": {
   "codemirror_mode": {
    "name": "ipython",
    "version": 3
   },
   "file_extension": ".py",
   "mimetype": "text/x-python",
   "name": "python",
   "nbconvert_exporter": "python",
   "pygments_lexer": "ipython3",
   "version": "3.10.12"
  }
 },
 "nbformat": 4,
 "nbformat_minor": 5
}
