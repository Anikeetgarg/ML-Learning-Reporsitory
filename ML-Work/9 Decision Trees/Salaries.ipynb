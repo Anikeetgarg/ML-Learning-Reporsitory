{
 "cells": [
  {
   "cell_type": "code",
   "execution_count": 1,
   "metadata": {},
   "outputs": [],
   "source": [
    "import pandas as pd\n",
    "import numpy as np\n",
    "import seaborn as sns\n",
    "import matplotlib.pyplot as plt"
   ]
  },
  {
   "cell_type": "code",
   "execution_count": 11,
   "metadata": {},
   "outputs": [
    {
     "name": "stdout",
     "output_type": "stream",
     "text": [
      "<class 'pandas.core.frame.DataFrame'>\n",
      "RangeIndex: 16 entries, 0 to 15\n",
      "Data columns (total 4 columns):\n",
      " #   Column                 Non-Null Count  Dtype \n",
      "---  ------                 --------------  ----- \n",
      " 0   company                16 non-null     object\n",
      " 1   job                    16 non-null     object\n",
      " 2   degree                 16 non-null     object\n",
      " 3   salary_more_then_100k  16 non-null     int64 \n",
      "dtypes: int64(1), object(3)\n",
      "memory usage: 644.0+ bytes\n"
     ]
    },
    {
     "name": "stderr",
     "output_type": "stream",
     "text": [
      "<>:1: SyntaxWarning: invalid escape sequence '\\s'\n",
      "<>:1: SyntaxWarning: invalid escape sequence '\\s'\n",
      "C:\\Users\\yarra\\AppData\\Local\\Temp\\ipykernel_8796\\2458850992.py:1: SyntaxWarning: invalid escape sequence '\\s'\n",
      "  salaries_data = pd.read_csv('Data\\salaries.csv')\n"
     ]
    }
   ],
   "source": [
    "salaries_data = pd.read_csv('Data\\salaries.csv')\n",
    "salaries_data.info()"
   ]
  },
  {
   "cell_type": "code",
   "execution_count": 14,
   "metadata": {},
   "outputs": [
    {
     "data": {
      "text/plain": [
       "<Axes: xlabel='degree', ylabel='salary_more_then_100k'>"
      ]
     },
     "execution_count": 14,
     "metadata": {},
     "output_type": "execute_result"
    },
    {
     "data": {
      "image/png": "[encoded data removed]",
      "text/plain": [
       "<Figure size 640x480 with 1 Axes>"
      ]
     },
     "metadata": {},
     "output_type": "display_data"
    }
   ],
   "source": [
    "sns.barplot(data = salaries_data, x = 'degree', y = 'salary_more_then_100k')"
   ]
  },
  {
   "cell_type": "code",
   "execution_count": 16,
   "metadata": {},
   "outputs": [],
   "source": [
    "X = salaries_data.drop(['salary_more_then_100k'], axis = 1)\n",
    "y = salaries_data['salary_more_then_100k']"
   ]
  },
  {
   "cell_type": "code",
   "execution_count": 26,
   "metadata": {},
   "outputs": [],
   "source": [
    "from sklearn.preprocessing import OrdinalEncoder\n",
    "\n",
    "OE = OrdinalEncoder()\n",
    "\n",
    "X_n = pd.DataFrame(OE.fit_transform(X[['company', 'job', 'degree']]), columns= ['company_n', 'job_n', 'degree_n'])\n",
    "\n",
    "from sklearn.model_selection import train_test_split\n",
    "\n",
    "X_train, X_test, y_train, y_test = train_test_split(X_n, y)\n"
   ]
  },
  {
   "cell_type": "code",
   "execution_count": 38,
   "metadata": {},
   "outputs": [
    {
     "data": {
      "text/plain": [
       "0.5"
      ]
     },
     "execution_count": 38,
     "metadata": {},
     "output_type": "execute_result"
    }
   ],
   "source": [
    "from sklearn.tree import DecisionTreeClassifier\n",
    "# from xgboost import XGBRegressor\n",
    "\n",
    "# model = XGBRegressor(n_estimators = 200, learning_rate = 0.05, n_jobs = 12, early_stopping_rounds=5)\n",
    "\n",
    "model = DecisionTreeClassifier()\n",
    "\n",
    "# from sklearn.pipeline import Pipeline\n",
    "\n",
    "# my_pipeline = Pipeline(steps= [('model', model)])\n",
    "\n",
    "# from sklearn.model_selection import cross_val_score\n",
    "\n",
    "# score = -1 * cross_val_score(my_pipeline, X_n, y, cv = 5, scoring = 'neg_mean_absolute_error')\n",
    "\n",
    "# score\n",
    "\n",
    "# model.fit(X_train, y_train, early_stopping_rounds = 5, eval_set = [(X_test, y_test)])\n",
    "model.fit(X_train, y_train)#, \n",
    "        #   eval_set=[(X_test, y_test)], \n",
    "        #   verbose=True)\n",
    "\n",
    "model.score(X_test, y_test)"
   ]
  },
  {
   "cell_type": "code",
   "execution_count": 36,
   "metadata": {},
   "outputs": [
    {
     "name": "stdout",
     "output_type": "stream",
     "text": [
      "2.1.0\n"
     ]
    }
   ],
   "source": [
    "import xgboost as xgb\n",
    "print(xgb.__version__)"
   ]
  }
 ],
 "metadata": {
  "kernelspec": {
   "display_name": "Python 3",
   "language": "python",
   "name": "python3"
  },
  "language_info": {
   "codemirror_mode": {
    "name": "ipython",
    "version": 3
   },
   "file_extension": ".py",
   "mimetype": "text/x-python",
   "name": "python",
   "nbconvert_exporter": "python",
   "pygments_lexer": "ipython3",
   "version": "3.12.4"
  }
 },
 "nbformat": 4,
 "nbformat_minor": 2
}
